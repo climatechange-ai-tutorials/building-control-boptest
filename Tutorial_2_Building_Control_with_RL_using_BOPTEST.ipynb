{
  "cells": [
    {
      "cell_type": "markdown",
      "metadata": {
        "id": "V1CcDG8FanTw"
      },
      "source": [
        "#**Key Learning Objectives** 🎯"
      ]
    },
    {
      "cell_type": "markdown",
      "metadata": {
        "id": "oT2QjTu24zwV"
      },
      "source": [
        "\n",
        "This is an introductory, hands-on tutorial to guide you through the main concepts of Reinforcement Learning (RL) for controlling Heating, Ventilation and Air Conditioning (HVAC) systems for buildings.\n",
        "We are going to apply RL to a building emulator from the Building Optimization Testing (BOPTEST) framework **[1]** using the BOPTEST-Gym interface **[2]**.\n",
        "BOPTEST is a framework for performance benchmarking of control algorithms.\n",
        "Further information and documentation can be found here:\n",
        "\n",
        "[https://ibpsa.github.io/project1-boptest/](https://ibpsa.github.io/project1-boptest/)\n",
        "\n",
        "You will learn:\n",
        "\n",
        "- What RL is, how it works and how it can be used in the application of building energy management.\n",
        "- The most popular standard for representing general RL problems: OpenAI-Gym.\n",
        "- The BOPTEST API and its Gym interface.\n",
        "\n",
        "📌 **Note**: This tutorial was prepared for use with BOPTEST v0.3.0.\n",
        "and will make usage of a web-based version of BOPTEST (called \"BOPTEST-Service\") so as not to require installation of any BOPTEST software on a user's own device. It is also possible to use BOPTEST on a user's own (local) device. Both the web-based and local versions have the same functionality, and will produce the same results, with only small changes in the API (changing the BOPTEST-service url to your localhost url, that is, to: `http://127.0.0.1:5000/<request>`).\n",
        "\n",
        "**EDIT**: This tutorial was originally developed with BOPTEST v0.2.0. and has been updated to version 0.3.0. on *Oct 25, 2022*. There are just small changes required for this update, basically retrieving the `'payload'` after each request. That is the origin of the differences between the notebook explained in the recording and this updated notebook.  "
      ]
    },
    {
      "cell_type": "markdown",
      "metadata": {
        "id": "TSTpxm2GrjhR"
      },
      "source": [
        "# **Outline** ⏰\n"
      ]
    },
    {
      "cell_type": "markdown",
      "metadata": {
        "id": "VUbaQ5GqrvIl"
      },
      "source": [
        "[Part 1: Background](#background)\n",
        "  1. [Introduction to Reinforcement Learning](#introRL)\n",
        "  1. [Application of Reinforcement Learning in buildings](#applicationRL)\n",
        "\n",
        "[Part 2: The OpenAI-Gym standard](#openAIGym)\n",
        "  1. [What is OpenAI-Gym?](#whatIsOpenAIGym)\n",
        "  1. [Example using an OpenAI-Gym environment](#exampleOpenAIGym)\n",
        "\n",
        "[Part 3: The Building Optimization Testing (BOPTEST) Framework](#boptest)\n",
        "  1. [What is BOPTEST?](#whatIsBoptest)\n",
        "  1. [Selecting a building test case](#selectBuilding)\n",
        "  1. [Obtaining general information about the building](#obtainInfo)\n",
        "  1. [Getting control input and measurement points](#gettingIOs)\n",
        "\n",
        "[Part 4: Implementing RL for a building with BOPTEST-Gym](#implementingRL)\n",
        "  1. [What is BOPTEST-Gym?](#whatIsBoptestGym)\n",
        "  1. [Starting up a BOPTEST-Gym environment](#startingUpBoptestGym)\n",
        "  1. [Interacting with a BOPTEST-Gym environment](#interactingWithBoptestGym)\n",
        "  1. [Developing a basic RL algorithm](#developingRlAlgo)\n",
        "  1. [Testing our RL algorithm in BOPTEST-Gym](#testingRlAlgo)\n",
        "\n",
        "[Gearing up](#gearingUp)\n",
        "\n",
        "[Further resources](#furtherResources)\n",
        "\n",
        "[Feedback](#feedbackForm)\n",
        "\n",
        "[Annex I: Formal RL theory](#theoryRlFormal)\n",
        "\n",
        "[References](#references)"
      ]
    },
    {
      "cell_type": "markdown",
      "metadata": {
        "id": "oEzP9ZW4MXPv"
      },
      "source": [
        "#**Part 1: Background** 📖 <a name=\"background\"></a>"
      ]
    },
    {
      "cell_type": "markdown",
      "metadata": {
        "id": "Fas232CyMX6_"
      },
      "source": [
        "##**Introduction to Reinforcement Learning** <a name=\"introRL\"></a>"
      ]
    },
    {
      "cell_type": "markdown",
      "metadata": {
        "id": "TAy9fRjUTSdb"
      },
      "source": [
        "Could you imagine a magic oracle able to decide on the best actions to optimize any process? Could you imagine this oracle not needing any prior information of the process but just learning from interacting with it? Powerful, right? Well, that is exactly what RL is meant for.\n",
        "\n",
        "Reinforcement Learning (RL) is one of the categories of machine learning, along with unsupervised learning and supervised learning. The main difference from the other categories is that RL learns from dynamic data, that is, data that are obtained while learning."
      ]
    },
    {
      "cell_type": "markdown",
      "metadata": {
        "id": "e853vYumSx08"
      },
      "source": [
        "<img src=\"https://drive.google.com/uc?id=1w0zsvPXdy0bR67T6xJupyYUg5IM1vaYR\" width=\"500\"/>\n",
        "\n",
        "*Figure: The categories of machine learning. Source: [Mathworks](https://www.mathworks.com/discovery/reinforcement-learning.html)*\n"
      ]
    },
    {
      "cell_type": "markdown",
      "metadata": {
        "id": "2_qdE6Ab4aE9"
      },
      "source": [
        "In RL the goal is to learn the actions to be taken to achieve a predefined objective. RL relies on the principle of *repetitive experimentation*, that is, an approach where we roll out several **episodes of experience** where an agent 🤖 (the RL algorithm) interacts with its environment 🌎 (the process to be optimized) to learn based on a **reward** signal that is returned for every **action** taken from a specific **state** of the environment.\n",
        "\n",
        "Let's take the example of teaching a dog to grab a stick. In this case, the dog is the agent and all its surroundings conform the environment. Whenever the dog observes that there is a person throwing a stick it will perform an action. In case it grabs the stick and brings it back, the person will provide a cookie as a reward to encourage that behavior. In case the dog does not go for the stick but just runs around or goes chasing other dogs, the person will not provide the cookie. Eventually, the dog will associate the actions that bring the most rewards to specific observations and will be taking those actions accordingly.\n",
        "\n",
        "A more formal introduction to RL and its associated terminology can be found at the end of this tutorial, in [Annex I: Formal RL theory](#theoryRlFormal)."
      ]
    },
    {
      "cell_type": "markdown",
      "metadata": {
        "id": "mMppgppKX4Fy"
      },
      "source": [
        "<img src=\"https://drive.google.com/uc?id=1Leqg1LIT4LRv84B6OVG51O4QSOXvfw0Y\" width=\"500\"/>\n",
        "\n",
        "*Figure: RL notation when teaching a dog. Source: [Mathworks](https://www.mathworks.com/discovery/reinforcement-learning.html)*\n"
      ]
    },
    {
      "cell_type": "markdown",
      "metadata": {
        "id": "pNy7uRzo8foI"
      },
      "source": [
        "⚠️ **Important note:** ⚠️ It is common to find in the RL literature that the same term indistinctly designates the\n",
        "state and the observation. This is not strictly correct for partially observable environments (most of the cases) where the observation only conveys part of the information that defines the state. For example, the state of the Tic-Tac-Toe game can be fully observed because there is a finite number of possibilities that define the state of a game. On the contrary, the thermal state of a building is only partially oservable. We can observe the indoor air temperature, but we cannot measure all temperatures from walls, ground, furniture... which also influence the building's thermal state."
      ]
    },
    {
      "cell_type": "markdown",
      "metadata": {
        "id": "pNC0UnC2WYyE"
      },
      "source": [
        "\n",
        "\n",
        "What is particularly extraordinary of RL algorithms is that the same algorithm can be successfully used for a variety of tasks, from [robotic motion control](https://www.technologyreview.com/2021/04/08/1022176/boston-dynamics-cassie-robot-walk-reinforcement-learning-ai/) to [defeat the human world champion in the game of Go](\n",
        "https://www.youtube.com/watch?v=WXuK6gekU1Y&ab_channel=DeepMind).\n",
        "The latter is an astonishing achievement. It is true that the IBM supercomputer Deep Blue could previously [defeat Garry Casparov in chess](https://en.wikipedia.org/wiki/Deep_Blue_versus_Garry_Kasparov), but Go is to chess what chess is to Tic-Tac-Toe ([*Chris Wiltz*](https://www.designnews.com/design-hardware-software/googles-ai-beat-go-champion-mimicking-human-intuition)). And what is more important, professionals of Go state that this game has so many possible combinations that mastering it requires certain intuition and creativity, qualities that have only been attributed to humans so far... if AlphaGo defeated the best human player of Go, could machines resemble these qualities? Well, that is more a philosophical question. This tutorial is limited to investigate whether machines can efficiently control buildings, which you will see is already an enormous challenge!\n",
        "\n",
        "<!-- ###**MAIN CHALLENGES OF RL:**\n",
        "- **Curse of dimensionality**: to be practical, an RL agent needs to be sample efficient. That means that it has to learn from a reasonable amount of interactions with the environment. Note that an untrained agent is like a newborn baby that can only learn from rewards of the environment.  \n",
        "- The feedback obtained from the environment may be **delayed**, not instantaneous. The agent should be able to learn that the consequence of an action may be well dalayed in time.\n",
        "- The function approximators used to represent the agent's policies are trained with **non-independent and identically distributed (i.i.d.) data**, assumption that is typically taken to parametrize policies and value functions.  -->\n",
        "\n",
        " <!--\n",
        "Different families of methods exist to address MDPs. However, Reinforcement Learni RL is the one that\n",
        "can tackle systems that involve continuous variables without assuming perfect\n",
        "system knowledge. -->"
      ]
    },
    {
      "cell_type": "markdown",
      "metadata": {
        "id": "XOcvaJpkNbho"
      },
      "source": [
        "<img src=\"https://drive.google.com/uc?id=1-r7O-0ROh0cXs6qxatWXztf_lvr5jcCL\" width=\"500\"/>\n",
        "\n",
        "*Figure: Netflix documentary that explains how AlphaGo, a RL algorithm developed by [DeepMind](https://www.deepmind.com/), could defeat Lee Sedol (4-1) and Fan Hui (5-0), the human world champions in the game of Go.*\n"
      ]
    },
    {
      "cell_type": "markdown",
      "metadata": {
        "id": "o1jhKBOeOciu"
      },
      "source": [
        "📌 **QUICK FACTS:**\n",
        "- RL is a **category of machine learning** algorithms, together with supervised and unsupervised learning.\n",
        "- Contrarily to other machine learning techniques, RL learns from **dynamic data**, that is, data that are obtained from interactions with the environment.\n",
        "- Particularly, it learns from **state-action-reward** samples, so there is no need of domain knowledge to model the environment.\n",
        "\n",
        "<!-- - The counterpart of RL in the control theory community is **Model Predictive Control (MPC)**. Although both methods pursue the same goal (optimal control) they follow very different approaches and use different terminologies.\n",
        "- In essence, the main difference between MPC and RL is that MPC requires a **model** of the environment, whereas RL can just learn from interactions with it. On the downside, RL needs a lot of data for learning, has difficulties dealing with constraints, and lacks intelligibility.  -->\n"
      ]
    },
    {
      "cell_type": "markdown",
      "metadata": {
        "id": "6G1nWECgbmuW"
      },
      "source": [
        "##**Application of Reinforcement Learning in buildings** <a name=\"applicationRL\"></a>"
      ]
    },
    {
      "cell_type": "markdown",
      "metadata": {
        "id": "xoTh8XvAM_OR"
      },
      "source": [
        "During the last decade, there has been a clear interest growth in using optimal control for HVAC systems **[3]**. The figure below underlines this increased interest by showing the number of yearly peer-reviewed scientific publications related to optimal control in buildings.\n",
        "RL algorithms have\n",
        "gained particular popularity for their application in a **demand response** setting.\n",
        "An extensive review for this application was written by  Vázquez-Canteli et al. **[4]** This review is\n",
        "not limited to HVAC systems but also demand response for charging electric\n",
        "vehicles or thermal energy storage."
      ]
    },
    {
      "cell_type": "markdown",
      "metadata": {
        "id": "7NywyXo6hD5n"
      },
      "source": [
        "<img src=\"https://drive.google.com/uc?id=1-rfj3nQ7MIv8Vgfb8iwESATdB9lc2vmv\" width=\"500\"/>\n",
        "\n",
        "*Figure: Evolution of the number of scientific publications about optimal control in buildings during the last decades. Data obtained from the Clarivate Web of Science.*"
      ]
    },
    {
      "cell_type": "markdown",
      "metadata": {
        "id": "8KR-sTeJiJG2"
      },
      "source": [
        "RL has already attracted the attention of the building control community for\n",
        "many years. The figure below is obtained from the popular paper of Chen et al. **[5]** who graphically summarized the application of RL in buildings indicating the amount of data required by each research work to train the implemented RL algorithm.\n",
        "\n",
        "<!-- Only recently synergetic methods are gaining attention.  -->\n",
        "\n",
        "<!-- As explained before, there are two main families of methods that can tackle large and complex systems comprising several variables like buildings: MPC and RL. Their parallel development is also reflected in their applicability in buildings with authors typically adopting either one or the other approach.  -->\n",
        "\n"
      ]
    },
    {
      "cell_type": "markdown",
      "metadata": {
        "id": "nCH0DBBbPEC7"
      },
      "source": [
        "<img src=\"https://drive.google.com/uc?id=1-vJiJ63O9pHklURqNgWxIHqMZQjMgJKK\" width=\"700\"/>\n",
        "\n",
        "\n",
        "*Figure: Summary of the data required in the history of RL applications to buildings. Chen et al.* **[5]** ."
      ]
    },
    {
      "cell_type": "markdown",
      "metadata": {
        "id": "Ae18iXNKWV5I"
      },
      "source": [
        "You can see from the figure that the feasibility and potential of applying RL for HVAC control\n",
        "was first investigated by Liu and Henze back in 2006. Then, the interest was lost for a period, probably because Model Predictive Control (MPC) has been typically preferred for optimal control in buildings because it is much more data-efficient (it does not need as much data to be implemented). A comprehensive and complete review on the application of MPC for building energy management is provided by Drgona et al. **[6]**.    \n",
        "The reasons why RL is gaining momentum again are clear:  \n",
        "\n",
        "- Evolution in deep learning\n",
        "- We have much more data than before\n",
        "- We have much more computational power than before\n",
        "\n",
        "In fact, there exist very recent developments for the application of RL in buildings, most of them using the OpenAI-Gym standard that is introduced in the next section. It is worth mentioning:\n",
        "\n",
        "- [CityLearn](https://github.com/intelligent-environments-lab/CityLearn) ➡️ Gym environment for providing demand response scenarios at an urban scale. That is, the goal of the RL agent is to flatten the energy demand of a district. It considers static\n",
        "building heating and cooling load data and simplified models for energy storage.\n",
        "- [Gym-Eplus](https://github.com/zhangzhizza/Gym-Eplus) ➡️ Gym environment wrapper around EnergyPlus simulation models.\n",
        "- [Sinergym](https://github.com/ugr-sail/sinergym) ➡️ Extension of Gym-Eplus.\n",
        "- [Energym](https://github.com/bsl546/energym) ➡️ Gym wrapper around building simulation models to assess controller performance.\n",
        "- [Beobench](https://github.com/rdnfn/beobench) ➡️ A Toolkit for Unified Access to BuildingSimulations for Reinforcement Learning.\n",
        "- 👉🏻[BOPTEST-Gym](https://github.com/ibpsa/project1-boptest-gym) ➡️ Gym environment for the BOPTEST Framework. The goal of the RL agent in this environment is to efficienty control an individual building. It allows testing against high-fidelity building models.\n",
        "\n",
        "The last of which is the focus of this tutorial.\n",
        "\n",
        "These RL frameworks for HVAC control bring hope\n",
        "to the adoption of this technology in buildings. However, there is still a clear\n",
        "need to different techniques and understand the best practices of RL\n",
        "for this particular application. Let's investigate how!"
      ]
    },
    {
      "cell_type": "markdown",
      "metadata": {
        "id": "7YnuNAQdM_L2"
      },
      "source": [
        "#**Part 2: The OpenAI-Gym standard** 🤖 <a name=\"openAIGym\"></a>"
      ]
    },
    {
      "cell_type": "markdown",
      "metadata": {
        "id": "Sv728rc3M_Ir"
      },
      "source": [
        "##**What is OpenAI-Gym?** <a name=\"whatIsOpenAIGym\"></a>"
      ]
    },
    {
      "cell_type": "markdown",
      "metadata": {
        "id": "AhQfyrBCUigq"
      },
      "source": [
        "[OpenAI-Gym](https://www.gymlibrary.ml/) is a software package that gathers a **collection of tasks** called environments with a **unique Python interface** to control all of them. This unique interface is a key feature in the software package, and has given rise to a standard for the format in which RL agents are developed and treated, independently of\n",
        "their internal functioning. The tasks defined in the Gym environments involve\n",
        "a wide variety of fields like video games, classic control theory problems, or high dimensional robotic locomotive tasks. You can find a list of available environment [here](https://www.gymlibrary.ml/environments/classic_control/).\n",
        "\n",
        "<!-- There also exist numerous third party environments aiming to engage control developers to test\n",
        "their algorithms in their field of interest, e.g. for the optimization of electrical mircrogrids or for the intelligent control of electric vehicles. -->\n",
        "\n",
        "The OpenAI-Gym philosophy heavily relies on the episodic aspect of RL, i.e.\n",
        "the agent’s history is broken down into a series of experiences called **episodes** that may be of\n",
        "variable length. The agent interacts with the environment until it reaches a\n",
        "terminal state when the episode is finished. The goal is to maximize the total\n",
        "cumulative reward per episode.\n",
        "\n",
        "The main methods of the OpenAI-Gym interface are the following:\n",
        "\n",
        "- `obs = env.reset()` ➡️ The `reset` method is the one called first to initialize the environment `env` (whatever it is). The environment returns the first observation `obs` (state).\n",
        "- `next_obs,reward,done,info = env.step(action)` ➡️ The `step` method is used iteratively to interact with the environment. The RL agent computes an `action`, and the environment returns the next observation, associated reward, whether the episode is done (=terminated), and some other optional information."
      ]
    },
    {
      "cell_type": "markdown",
      "metadata": {
        "id": "ntNSOBzJPJuF"
      },
      "source": [
        "##**Example using an OpenAI-Gym environment** <a name=\"exampleOpenAIGym\"></a>"
      ]
    },
    {
      "cell_type": "markdown",
      "metadata": {
        "id": "mQ2879zIPOJ0"
      },
      "source": [
        "Now that we understand the main concepts of OpenAI-Gym we are going to illustrate its typical usage with a quick example. We're going to use the [CartPole environment](https://www.gymlibrary.ml/environments/classic_control/cart_pole/), which is one of the classic control problems available in the OpenAI-Gym framework.\n",
        "Let's start by installing the dependencies that we require:\n",
        "\n",
        "<!-- !pip3 install gym==0.21.0 stable-baselines3==0.8.0 torch==1.11.0 -->"
      ]
    },
    {
      "cell_type": "code",
      "execution_count": null,
      "metadata": {
        "colab": {
          "base_uri": "https://localhost:8080/"
        },
        "id": "E0sfte45O8iN",
        "outputId": "42d4b7a1-6abf-49c1-bef9-72c434c652bb"
      },
      "outputs": [
        {
          "output_type": "stream",
          "name": "stdout",
          "text": [
            "Looking in indexes: https://pypi.org/simple, https://us-python.pkg.dev/colab-wheels/public/simple/\n",
            "Requirement already satisfied: gym==0.21.0 in /usr/local/lib/python3.7/dist-packages (0.21.0)\n",
            "Requirement already satisfied: numpy>=1.18.0 in /usr/local/lib/python3.7/dist-packages (from gym==0.21.0) (1.21.6)\n",
            "Requirement already satisfied: cloudpickle>=1.2.0 in /usr/local/lib/python3.7/dist-packages (from gym==0.21.0) (1.5.0)\n",
            "Requirement already satisfied: importlib-metadata>=4.8.1 in /usr/local/lib/python3.7/dist-packages (from gym==0.21.0) (4.13.0)\n",
            "Requirement already satisfied: typing-extensions>=3.6.4 in /usr/local/lib/python3.7/dist-packages (from importlib-metadata>=4.8.1->gym==0.21.0) (4.1.1)\n",
            "Requirement already satisfied: zipp>=0.5 in /usr/local/lib/python3.7/dist-packages (from importlib-metadata>=4.8.1->gym==0.21.0) (3.10.0)\n"
          ]
        }
      ],
      "source": [
        "!pip install gym==0.21.0"
      ]
    },
    {
      "cell_type": "markdown",
      "metadata": {
        "id": "RnmDsSAnM_F-"
      },
      "source": [
        "**Cartpole environment description:**\n",
        "\n",
        "\"*A pole is attached by an un-actuated joint to a cart, which moves along a frictionless track. The pendulum is placed upright on the cart and the goal is to balance the pole by applying forces in the left (-1) and right (+1) direction on the cart. A reward of +1 is provided for every timestep that the pole remains upright.*\"\n",
        "\n",
        "\n",
        "You can also check out the physics of the environment in the [GitHub repository of OpenAI-Gym](https://github.com/openai/gym).\n",
        "See below an example of the evolution of an episode of the Cartpole environment. Note that most of the Gym envronments can be rendered to show how the RL agent is performing.\n",
        "\n",
        "![Cartpole](https://cdn-images-1.medium.com/max/1143/1*h4WTQNVIsvMXJTCpXm_TAw.gif)\n",
        "\n"
      ]
    },
    {
      "cell_type": "markdown",
      "metadata": {
        "id": "eMa2F3q_pV-C"
      },
      "source": [
        "First, we are going to import `gym` and then `make` our Cartpole environment (version 1). Note how it is possible to instantiate the registered Gym environments by referring to their names with a string.\n",
        "After that, we are going to interact with the environment for a maximum number of episodes of experience that we are going to indicate with `max_num_episodes`. In each episode, the environment is initialized with the `reset` method, and then we interact with the environment until the episode is `done`, which happens when the pole is down.\n",
        "\n",
        "It is important to note that in this example we are not implementing RL just yet. Instead, we are using the `sample` method from the action space of the environment to compute a random control action. This is useful when we want to quickly check how an environment behaves, but we should aim to replace that line by some intelligent RL agent able to compute a control action that optimizes the performance of the environment."
      ]
    },
    {
      "cell_type": "code",
      "execution_count": null,
      "metadata": {
        "colab": {
          "base_uri": "https://localhost:8080/"
        },
        "id": "LBxXhZc5nGb3",
        "outputId": "e9b22327-0fe0-406c-a61e-cc0adfff4c28"
      },
      "outputs": [
        {
          "output_type": "stream",
          "name": "stdout",
          "text": [
            "\n",
            " Episode #1 had 12 steps and total_reward=12.0\n",
            "\n",
            " Episode #2 had 33 steps and total_reward=33.0\n",
            "\n",
            " Episode #3 had 24 steps and total_reward=24.0\n",
            "\n",
            " Episode #4 had 15 steps and total_reward=15.0\n",
            "\n",
            " Episode #5 had 24 steps and total_reward=24.0\n",
            "\n",
            " Episode #6 had 24 steps and total_reward=24.0\n",
            "\n",
            " Episode #7 had 32 steps and total_reward=32.0\n",
            "\n",
            " Episode #8 had 33 steps and total_reward=33.0\n",
            "\n",
            " Episode #9 had 20 steps and total_reward=20.0\n",
            "\n",
            " Episode #10 had 10 steps and total_reward=10.0\n"
          ]
        }
      ],
      "source": [
        "import gym\n",
        "\n",
        "env = gym.make('CartPole-v1')\n",
        "max_num_episodes = 10 # maximum number of episodes\n",
        "\n",
        "for episode in range(max_num_episodes):\n",
        "  done = False\n",
        "  obs = env.reset()\n",
        "  total_reward = 0.0\n",
        "  step = 0\n",
        "  while not done:\n",
        "    action = env.action_space.sample() # Compute random action. This is to be replaced by a RL algo\n",
        "    obs,reward,done,info = env.step(action) # send the action to the environment\n",
        "    total_reward += reward\n",
        "    step += 1\n",
        "\n",
        "  print('\\n Episode #{} had {} steps and total_reward={}'.format(episode+1,step,total_reward))\n",
        "\n",
        "env.close()"
      ]
    },
    {
      "cell_type": "markdown",
      "metadata": {
        "id": "ai9dHGWksZeu"
      },
      "source": [
        "Notice how every episode lasts for a different number of steps because we are applying random forces to the cart. Also, notice how the total reward of each episode is equal to the number of steps, because the Cartpole environment gives a reward of +1 every timestep that we get to maintain the pole upright.\n",
        "\n",
        "<!-- *Note: this part of the tutorial is mostly inspired in [this notebook](https://colab.research.google.com/github/araffin/rl-tutorial-jnrr19/blob/sb3/1_getting_started.ipynb#scrollTo=pUWGZp3i9wyf) provided in the Stable Baselines repository. Feel free to check it out if you have questions!* -->\n",
        "\n",
        "<!-- import gym\n",
        "import numpy as np\n",
        "from stable_baselines3 import PPO\n",
        "from stable_baselines3.ppo.policies import MlpPolicy\n",
        "\n",
        "env = gym.make('CartPole-v1')\n",
        "\n",
        "model = PPO(MlpPolicy, env, verbose=0)\n",
        "\n",
        "def evaluate(model, num_episodes=100):\n",
        "    \"\"\"\n",
        "    Evaluate a RL agent\n",
        "    :param model: (BaseRLModel object) the RL Agent\n",
        "    :param num_episodes: (int) number of episodes to evaluate it\n",
        "    :return: (float) Mean reward for the last num_episodes\n",
        "    \"\"\"\n",
        "    # This function will only work for a single Environment\n",
        "    env = model.get_env()\n",
        "    all_episode_rewards = []\n",
        "    for i in range(num_episodes):\n",
        "        episode_rewards = []\n",
        "        done = False\n",
        "        obs = env.reset()\n",
        "        while not done:\n",
        "            # _states are only useful when using LSTM policies\n",
        "            action, _states = model.predict(obs)\n",
        "            # here, action, rewards and dones are arrays\n",
        "            # because we are using vectorized env\n",
        "            obs, reward, done, info = env.step(action)\n",
        "            episode_rewards.append(reward)\n",
        "\n",
        "        all_episode_rewards.append(sum(episode_rewards))\n",
        "\n",
        "    mean_episode_reward = np.mean(all_episode_rewards)\n",
        "    print(\"Mean reward:\", mean_episode_reward, \"Num episodes:\", num_episodes)\n",
        "\n",
        "    return mean_episode_reward\n",
        "\n",
        "# Random Agent, before training\n",
        "mean_reward_before_train = evaluate(model, num_episodes=100)\n",
        "from stable_baselines3.common.evaluation import evaluate_policy\n",
        "mean_reward, std_reward = evaluate_policy(model, env, n_eval_episodes=100)\n",
        "# Train the agent for 10000 steps\n",
        "model.learn(total_timesteps=10000)\n",
        "\n",
        "# Evaluate the trained agent\n",
        "mean_reward, std_reward = evaluate_policy(model, env, n_eval_episodes=100)\n",
        "\n",
        "print(f\"mean_reward:{mean_reward:.2f} +/- {std_reward:.2f}\") -->"
      ]
    },
    {
      "cell_type": "markdown",
      "metadata": {
        "id": "tpeeOA8BM-5L"
      },
      "source": [
        "#**Part 3: The Building Optimization Testing (BOPTEST) framework** 🏠 <a name=\"boptest\"></a>"
      ]
    },
    {
      "cell_type": "markdown",
      "metadata": {
        "id": "z0ry1NQwuMXa"
      },
      "source": [
        "Now that we understand how RL and OpenAI-Gym work, let's use that knowledge for the particular application of buildings.\n",
        "In this tutorial we are going to connect with a BOPTEST building emulator that we will use as our environment to control through RL.\n",
        "This emulator is a simulation model that was configured based on detailed physics and that has been peer-reviewed to ensure that it represents the behavior of an actual building as realistically as possible. Hence, although it is a simulation model, we are going to consider this emulator as the real building for control, testing and benchmarking.\n",
        "\n",
        "In this section we explain what BOPTEST is and how it can be generally used. Next section will exclusively focus on BOPTEST-Gym, the OpenAI-Gym interface of BOPTEST, to learn how we can use it to implement and assess RL algorithms for building control."
      ]
    },
    {
      "cell_type": "markdown",
      "metadata": {
        "id": "OcPk7llkJP4m"
      },
      "source": [
        "##**What is BOPTEST?** <a name=\"whatIsBoptest\"></a>"
      ]
    },
    {
      "cell_type": "markdown",
      "metadata": {
        "id": "HtDrzTFuJU0e"
      },
      "source": [
        "BOPTEST is a software framework enables the performance evaluation and benchmarking of advanced control algorithms for building HVAC control through simulations. The software is developed and is available on the BOPTEST GitHub respository at [https://github.com/ibpsa/project1-boptest](https://github.com/ibpsa/project1-boptest)\n",
        "\n",
        "and general information about BOPTEST can be found through the following link:\n",
        "\n",
        "[https://ibpsa.github.io/project1-boptest/](https://ibpsa.github.io/project1-boptest/)\n",
        "\n",
        "In the link below you can also find information about the overarching project that gave birth to BOPTEST, IBPSA Project 1:\n",
        "\n",
        "[https://ibpsa.github.io/project1/](https://ibpsa.github.io/project1/)\n",
        "\n",
        "\n",
        "<!-- The main advantage of using the BOPTEST framework as our system is that we can use building models readily available in a server to generate data and to interact with them. Each BOPTEST emulator comes along with a baseline controller that is representative of currently typical HVAC control practice of the considered building case.  -->\n",
        "\n",
        "<!-- Therefore, to generate sample data for our forecasting exercise we are going to connect to a BOPTEST building test case emulator, simulate the model for a long period, and store the data points that we are going to use as features and targets of our machine learning algorithms. Note that BOPTEST will only expose data points that could be measured in practice.  -->"
      ]
    },
    {
      "cell_type": "markdown",
      "metadata": {
        "id": "sNiHr2w0IFYI"
      },
      "source": [
        "<img src=\"https://drive.google.com/uc?id=1XVbDEiHT2fWIGtnPLE0uphC2hV5XubKc\" width=\"500\"/>\n",
        "\n",
        "*Figure: The BOPTEST concept.*\n",
        "\n"
      ]
    },
    {
      "cell_type": "markdown",
      "metadata": {
        "id": "Jj7kbbF8JXEG"
      },
      "source": [
        "The main use case of the BOPTEST framework is the one where a control developer wants to evaluate the performance of his/her building control strategy. Testing in a real building may be very expensive, or just not possible. BOPTEST offers a menu of emulator building models so that the control developer can select one of them, interact in co-simulation, and eventually assess the performance of his/her controller with a set of Key Performance Indicators (KPIs) that are calculated by the BOPTEST framework.   \n",
        "\n",
        "Note that using a standardized set of building emulators, testing scenarios, and KPIs enables benchmarking, allows to compare across different controllers, and throws light on what are the best practices for building control.  In addition, making these emulators easily and rapidly available to use allows for control developers without expertise in building modeling to utilize them for controls testing and evaluation.\n",
        "\n",
        "In this section we are going to explain the basic BOPTEST functionality to connect to a building test case and obtain available control inputs and measurement points. For a more complete description on how to use BOPTEST please visit this [BOPTEST Colab tutorial](https://github.com/ibpsa/project1-boptest/blob/master/docs/workshops/BS21Workshop_20210831/Introduction_to_the_BOPTEST_framework.ipynb).  "
      ]
    },
    {
      "cell_type": "markdown",
      "metadata": {
        "id": "l5Fgw7eJHEjy"
      },
      "source": [
        "##**Selecting a building test case** <a name=\"selectBuilding\"></a>"
      ]
    },
    {
      "cell_type": "markdown",
      "metadata": {
        "id": "owb2Z2rqHEjz"
      },
      "source": [
        "BOPTEST test cases are developed as [Functional Mock-up Units (FMU's)](https://fmi-standard.org/) and deployed within a containerized environment using the [Docker](https://www.docker.com/) software with:\n",
        "\n",
        "*   A detailed emulator **building model**.\n",
        "*   Yearly **boundary condition data** for weather, schedules, pricing, and emission factors. These data are representative of the building location.\n",
        "*   An **API** that allows for, among other things, initializing a simulation or testing scenario, advancing a simulation with a control input, receiving forecast data, receiving emulator data, and receiving computed KPIs.  The full API is described [here](https://github.com/ibpsa/project1-boptest/tree/boptest-service#test-case-restful-api).\n",
        "\n",
        "The basic workflow to test a controller is:\n",
        "\n",
        "1.   Select a **test case** from the menu of those available.\n",
        "2.   Select one of the **testing scenarios** defined for the given test case. Testing scenarios are standardized for each emulator.\n",
        "3.   Set **parameters** for the interaction with your test controller, such as the control step or forecast horizon, if required.  \n",
        "4.   Run the test case scenario in a **co-simulation** loop with your controller.\n",
        "5.   Request the KPIs and **evaluate** your controller's performance.\n",
        "\n",
        "We start by selecting and launching a BOPTEST building test case from the [repository of currently available test cases](https://ibpsa.github.io/project1-boptest/testcases/index.html).  In this example, we are going to work with the test case called `bestest_hydronic_heat_pump`, which is a single-zone residential building with radiant floor heating and a heat pump. This is a high-fidelity, yet, relatively simple test case that allows us to focus on fundamental aspects.  You may want to note the other test cases available in the repository as well as the fact that there are more under development.  \n",
        "\n",
        "We can launch our chosen test case as follows.  First, import the Python `requests` library so that we can make HTTP requests to the BOPTEST API at the address indicated by the `url`.  Then, use the `POST /testcases/<test_case_name>/select` BOPTEST API endpoint to launch the test case and receive a corresponding `testid`.  While the `url` is the common gateway for everyone to access the BOPTEST web-service, the `testid` is a unique identifier for you to address the test case that you have selected and launched."
      ]
    },
    {
      "cell_type": "code",
      "execution_count": null,
      "metadata": {
        "id": "V_qU6ukZghTb"
      },
      "outputs": [],
      "source": [
        "import requests\n",
        "\n",
        "# url for the BOPTEST service\n",
        "url = 'https://api.boptest.net'\n",
        "\n",
        "# Select test case and get identifier\n",
        "testcase = 'bestest_hydronic_heat_pump'\n",
        "\n",
        "# Check if already started a test case and stop it if so before starting another\n",
        "try:\n",
        "  requests.put('{0}/stop/{1}'.format(url, testid))\n",
        "except:\n",
        "  pass\n",
        "\n",
        "# Select and start a new test case\n",
        "testid = \\\n",
        "requests.post('{0}/testcases/{1}/select'.format(url,testcase)).json()['testid']\n"
      ]
    },
    {
      "cell_type": "markdown",
      "metadata": {
        "id": "eRZGKWDlHEj2"
      },
      "source": [
        "Please do not get distracted by the `try-except` statement. We are using that one to stop already created test cases if we are revisiting this cell. This prevents from having several dangling test cases that can overwhelm our server.\n",
        "\n",
        "Once you have successfully obtained the `testid`, it is possible to start interacting with your selected test case using the rest of the BOPTEST API.  You will need this `testid` for all further interactions with this test case.  For example, use the `GET /name` BOPTEST API endpoint, along with your `testid`, to request the name of your test case and check that it matches the one we want."
      ]
    },
    {
      "cell_type": "code",
      "execution_count": null,
      "metadata": {
        "colab": {
          "base_uri": "https://localhost:8080/"
        },
        "id": "8mdK5JtNI-e_",
        "outputId": "30f60334-3add-43c5-c232-12527c657f4e"
      },
      "outputs": [
        {
          "output_type": "stream",
          "name": "stdout",
          "text": [
            "{'name': 'bestest_hydronic_heat_pump'}\n"
          ]
        }
      ],
      "source": [
        "# Get test case name\n",
        "name = requests.get('{0}/name/{1}'.format(url, testid)).json()['payload']\n",
        "print(name)"
      ]
    },
    {
      "cell_type": "markdown",
      "metadata": {
        "id": "gUOQXYjlHEj3"
      },
      "source": [
        "With our unique `testid` in-hand and having some practice using the BOPTEST API, we are ready to move on to start using our building emulator. For this tutorial, we are going to explain only how to obtain information about the building using the BOPTEST API before moving to learn BOPTEST-Gym.\n",
        "Note that the test case will timeout after 15 minutes of no requests.  If the test case times out, you can simply select and start a new one by repeating the steps described above.\n",
        "\n",
        "<!-- Note, however, that you can further explore the BOPTEST API by going through [this workshop material](https://github.com/ibpsa/project1-boptest/blob/master/docs/workshops/BS21Workshop_20210831/Introduction_to_the_BOPTEST_framework.ipynb). -->\n"
      ]
    },
    {
      "cell_type": "markdown",
      "metadata": {
        "id": "jmglIZGFHEj3"
      },
      "source": [
        "##**Obtaining general information about the building** <a name=\"obtainInfo\"></a>\n"
      ]
    },
    {
      "cell_type": "markdown",
      "metadata": {
        "id": "mJ6leLGvRJya"
      },
      "source": [
        "The first thing we want to do is learn about the building and system that we want to control.  All building information can be found under documentation provided for each specific test case on the [Test Cases tab](https://ibpsa.github.io/project1-boptest/testcases/index.html) of the BOPTEST website.\n",
        "\n",
        "The building information includes a description of the building envelope, the HVAC system design, the functioning of the baseline controller, available control inputs and measurement outputs, and available testing scenarios. Understanding how the system works is an important practice for control design, so take as much time as needed to understand the equipment, the points that can be measured, and the points that can be overwritten by your controller.\n",
        "We briefly summarize the `bestest_hydronic_heat_pump` case here for completeness, but it is strongly recommended to have a deeper look into the [documentation](https://ibpsa.github.io/project1-boptest/testcases/ibpsa/testcases_ibpsa_bestest_hydronic_heat_pump/).\n",
        "\n",
        "The building represents a residential dwelling of 192 $m^2$ for a family of 5 members.\n",
        "An air-to-water modulating heat pump of 15 $kW$ nominal heating capacity extracts energy from the ambient air to heat up the floor heating emission system, as shown in the figure below.\n",
        "An evaporator fan blows ambient air through the heat pump evaporator when the heat pump is operating.\n",
        "The floor heating system injects heat into the floor using water as the working fluid."
      ]
    },
    {
      "cell_type": "markdown",
      "metadata": {
        "id": "SMQcNDl1HEj4"
      },
      "source": [
        "<img src=\"https://drive.google.com/uc?id=1-wFA_PnXlJLBV1uwej76_p5PMG8vPhzY\" width=\"500\"/>\n",
        "\n",
        "\n",
        "*Figure: Schematic of HVAC system and control for the `bestest_hydronic_heat_pump` test case.*"
      ]
    },
    {
      "cell_type": "markdown",
      "metadata": {
        "id": "lNLRXp2eHEj4"
      },
      "source": [
        "A baseline controller is embedded in every test case emulator that is meant to be representative of a typical controller for that type of building.  The baseline controller includes local loop control such that supervisory set points may be the focus of a test controller, although many of those local loop control signals are also available for overwriting if a user chooses.  The baseline controller can also be considered an initial benchmark for control performance.\n",
        "\n",
        "In our selected test case, the baseline controller consists of a PI controller with the zone operative temperature as the controlled variable and the heat pump modulation signal for compressor frequency as the control variable, as depicted as C1 in the figure above and shown in the figure below.\n",
        "The control variable is limited between 0 and 1, and it is computed to drive the zone operative temperature towards its set point, which is defined as a function of the occupancy schedule."
      ]
    },
    {
      "cell_type": "markdown",
      "metadata": {
        "id": "RqVtoDgTHEj4"
      },
      "source": [
        "\n",
        "<img src=\"https://drive.google.com/uc?id=104XbwwPO8hCLNxiUu3fTnNIJ5IjyUFFF\" width=\"400\"/>\n",
        "\n",
        "*Figure: Primary PI controller C1.*\n"
      ]
    },
    {
      "cell_type": "markdown",
      "metadata": {
        "id": "ryOicW_KHEj5"
      },
      "source": [
        "All other equipment (fan for the heat pump evaporator circuit and floor heating emission system pump) are switched on when the heat pump is working (modulating signal higher than 0) and switched off otherwise.  This is depicted in the figure of the HVAC schematic as controller C2."
      ]
    },
    {
      "cell_type": "markdown",
      "metadata": {
        "id": "-J5j60bRHEj5"
      },
      "source": [
        "##**Getting control input and measurement points** <a name=\"gettingIOs\"></a>\n"
      ]
    },
    {
      "cell_type": "markdown",
      "metadata": {
        "id": "AGG7G6VeR4WB"
      },
      "source": [
        "While control input and measurement points are described in the documentation, they are also available to retreive from the BOPTEST API.  This is especially useful to store for later when requesting data for a specific point.\n",
        "\n",
        "Retrieve the control input and measurement outputs using the `GET /inputs` and `GET /measurements` BOPTEST API endpoints."
      ]
    },
    {
      "cell_type": "code",
      "execution_count": null,
      "metadata": {
        "colab": {
          "base_uri": "https://localhost:8080/"
        },
        "id": "0IKRxBykJY6u",
        "outputId": "0ef4af96-d062-48d1-b9fb-c14fef7b8df9"
      },
      "outputs": [
        {
          "output_type": "stream",
          "name": "stdout",
          "text": [
            "TEST CASE INPUTS ---------------------------------------------\n",
            "dict_keys(['oveTSet_activate', 'ovePum_activate', 'ovePum_u', 'oveHeaPumY_u', 'oveTSet_u', 'oveHeaPumY_activate', 'oveFan_activate', 'oveFan_u'])\n",
            "TEST CASE MEASUREMENTS ---------------------------------------\n",
            "dict_keys(['weaSta_reaWeaPAtm_y', 'reaPFan_y', 'reaQHeaPumCon_y', 'reaTRet_y', 'weaSta_reaWeaNOpa_y', 'weaSta_reaWeaTBlaSky_y', 'reaQHeaPumEva_y', 'weaSta_reaWeaNTot_y', 'weaSta_reaWeaSolAlt_y', 'reaTZon_y', 'weaSta_reaWeaHHorIR_y', 'weaSta_reaWeaLon_y', 'weaSta_reaWeaSolTim_y', 'weaSta_reaWeaCloTim_y', 'reaPPumEmi_y', 'weaSta_reaWeaHGloHor_y', 'weaSta_reaWeaHDifHor_y', 'weaSta_reaWeaRelHum_y', 'reaTSetHea_y', 'reaCO2RooAir_y', 'weaSta_reaWeaSolDec_y', 'reaPHeaPum_y', 'weaSta_reaWeaHDirNor_y', 'reaTSetCoo_y', 'weaSta_reaWeaWinDir_y', 'reaTSup_y', 'weaSta_reaWeaSolZen_y', 'reaQFloHea_y', 'reaCOP_y', 'weaSta_reaWeaTDryBul_y', 'weaSta_reaWeaTWetBul_y', 'weaSta_reaWeaTDewPoi_y', 'weaSta_reaWeaWinSpe_y', 'weaSta_reaWeaLat_y', 'weaSta_reaWeaCeiHei_y', 'weaSta_reaWeaSolHouAng_y'])\n"
          ]
        }
      ],
      "source": [
        "# Get inputs available\n",
        "inputs = requests.get('{0}/inputs/{1}'.format(url, testid)).json()['payload']\n",
        "print('TEST CASE INPUTS ---------------------------------------------')\n",
        "print(inputs.keys())\n",
        "# Get measurements available\n",
        "print('TEST CASE MEASUREMENTS ---------------------------------------')\n",
        "measurements = requests.get('{0}/measurements/{1}'.format(url, testid)).json()['payload']\n",
        "print(measurements.keys())"
      ]
    },
    {
      "cell_type": "markdown",
      "metadata": {
        "id": "A4L6Gw6YJU5L"
      },
      "source": [
        "The naming convention is such that the extension `_y` indicates a measurement point, `_u` indicates the value of an input which can be overwritten by a test controller, and `_activate` indicates the enabling (with value 0 or 1) of a test controller to overwrite the corresponding input value.\n",
        "Hence, `<varname>_u` is enabled for overwriting by the test controller when `<varname>_activate=1`.\n",
        "`weaSta_` indicates a measurement for a weather point, so that historical weather data can be easily retrieved.\n",
        "\n",
        "Notice that the jsons returned from the `GET /inputs` and `GET /measurements` BOPTEST API endpoints also include a description and unit of each variable, as well as the minimum and maximum value for inputs variables:"
      ]
    },
    {
      "cell_type": "markdown",
      "metadata": {
        "id": "U7guJ_I10QOF"
      },
      "source": [
        "Now let's stop the test case since we are not going to use it for a while. We do this to not overwhelm the server."
      ]
    },
    {
      "cell_type": "code",
      "execution_count": null,
      "metadata": {
        "colab": {
          "base_uri": "https://localhost:8080/"
        },
        "id": "v5_1Q_H80Z5k",
        "outputId": "98e01bec-76cb-4805-a914-7452714c1895"
      },
      "outputs": [
        {
          "output_type": "execute_result",
          "data": {
            "text/plain": [
              "<Response [200]>"
            ]
          },
          "metadata": {},
          "execution_count": 6
        }
      ],
      "source": [
        "requests.put('{0}/stop/{1}'.format(url, testid))"
      ]
    },
    {
      "cell_type": "markdown",
      "metadata": {
        "id": "UHYHM9MjSz_C"
      },
      "source": [
        "# **Part 4: Implementing RL for a building with BOPTEST-Gym** 🤖 🏠 <a name=\"implementingRL\"></a>"
      ]
    },
    {
      "cell_type": "markdown",
      "metadata": {
        "id": "BEC76h9HT7gL"
      },
      "source": [
        "##**What is BOPTEST-Gym?** <a name=\"whatIsBoptestGym\"></a>"
      ]
    },
    {
      "cell_type": "markdown",
      "metadata": {
        "id": "z7A9k7GFUBsK"
      },
      "source": [
        "BOPTEST-Gym is the OpenAI-Gym interface of BOPTEST that helps to train RL agents for the application of building climate control.\n",
        "The BOPTEST-Gym interface accomodates the BOPTEST API to have BOPTEST building emulators as environments that follow the OpenAI-Gym standard.\n",
        "Therefore, the BOPTEST-Gym interface facilitates the development of RL agents as it allows interacting with the BOPTEST building emulators with a standard that is very well known by the machine learning community. Or even better, it allows us to directly use existing RL agents that have been developed following this standard, like those from the [Stable Baselines 3](https://stable-baselines3.readthedocs.io/en/master/) repository.\n",
        "\n",
        "You can find more information about BOPTEST-Gym in [this paper](https://publications.ibpsa.org/conference/paper/?id=bs2021_30380), but here we summarize the main points you should know:\n",
        "- BOPTEST-Gym enables the interaction of RL agents with a set of physics-based and highly **detailed building models** to assess RL for the application of building climate control.\n",
        "- All **hyperparameters** of the environment are initialized when the environment is instantiated. A particularly relevant hyperparameter is `testcase`, a string specifying the BOPTEST emulator of choice. This string selects the building model from the [menu of BOPTEST building emulators](https://ibpsa.github.io/project1-boptest/testcases/index.html).\n",
        "- The **state** of any building emulator environment can have a *time* component e.g. a weekly schedule, a *measurement* component with a subset (or all) measurements available in the building, and an *exogenous* component including disturbances of any kind of boundary condition data to the building such as electricity prices, ambient temperature, or temperature set-points.\n",
        "- The **action** space is defined based on any subset (or all) inputs available to the emulator. These can be either building set-points, like zone\n",
        "operative temperature set-points, or lower level actuator signals, such as heat\n",
        "pump modulating signal or a pump stage.\n",
        "- The **`reset()`** method is called at the beginning of every episode to return the environment to a logical initial state.\n",
        "- The **`step()`** method is called every time step to take the action computed by the RL agent, overwrite the building inputs with the vector of action values and advance the building simulation model during one time step period. BOPTEST-Gym also has wrappers for discretization of the state and action spaces. This functionality comes in handy when training RL agents.\n",
        "- A default **reward** function is implemented in the `compute_reward` method of the BOPTEST-Gym environment that can be overwritten. It is convenient to use the BOPTEST `/kpis` API to obtain the KPI values at the present time for defining custom reward functions."
      ]
    },
    {
      "cell_type": "markdown",
      "metadata": {
        "id": "kvMgiRhLX2i8"
      },
      "source": [
        "##**Starting up a BOPTEST-Gym environment** <a name=\"startingUpBoptestGym\"></a>"
      ]
    },
    {
      "cell_type": "markdown",
      "metadata": {
        "id": "WcrOX1Z_UvTY"
      },
      "source": [
        "BOPTEST-Gym uses RL algorithms from the [Stable Baselines 3](https://stable-baselines3.readthedocs.io/en/master/) repository to exemplify and test its functionality. Therefore, we need to install stable-baselines3.\n",
        " <!-- PyTorch, the neural network framework that Stable Baselines uses to configure policies and value functions.  -->"
      ]
    },
    {
      "cell_type": "code",
      "execution_count": null,
      "metadata": {
        "colab": {
          "base_uri": "https://localhost:8080/"
        },
        "id": "jpZk6qJKTuYl",
        "outputId": "53fc85c8-8631-413c-d8d1-6526698309ee"
      },
      "outputs": [
        {
          "output_type": "stream",
          "name": "stdout",
          "text": [
            "Looking in indexes: https://pypi.org/simple, https://us-python.pkg.dev/colab-wheels/public/simple/\n",
            "Collecting stable-baselines3==0.8.0\n",
            "  Downloading stable_baselines3-0.8.0-py3-none-any.whl (128 kB)\n",
            "\u001b[K     |████████████████████████████████| 128 kB 7.9 MB/s \n",
            "\u001b[?25hRequirement already satisfied: torch>=1.4.0 in /usr/local/lib/python3.7/dist-packages (from stable-baselines3==0.8.0) (1.12.1+cu113)\n",
            "Requirement already satisfied: matplotlib in /usr/local/lib/python3.7/dist-packages (from stable-baselines3==0.8.0) (3.2.2)\n",
            "Requirement already satisfied: pandas in /usr/local/lib/python3.7/dist-packages (from stable-baselines3==0.8.0) (1.3.5)\n",
            "Requirement already satisfied: numpy in /usr/local/lib/python3.7/dist-packages (from stable-baselines3==0.8.0) (1.21.6)\n",
            "Requirement already satisfied: cloudpickle in /usr/local/lib/python3.7/dist-packages (from stable-baselines3==0.8.0) (1.5.0)\n",
            "Requirement already satisfied: gym>=0.17 in /usr/local/lib/python3.7/dist-packages (from stable-baselines3==0.8.0) (0.21.0)\n",
            "Requirement already satisfied: importlib-metadata>=4.8.1 in /usr/local/lib/python3.7/dist-packages (from gym>=0.17->stable-baselines3==0.8.0) (4.13.0)\n",
            "Requirement already satisfied: typing-extensions>=3.6.4 in /usr/local/lib/python3.7/dist-packages (from importlib-metadata>=4.8.1->gym>=0.17->stable-baselines3==0.8.0) (4.1.1)\n",
            "Requirement already satisfied: zipp>=0.5 in /usr/local/lib/python3.7/dist-packages (from importlib-metadata>=4.8.1->gym>=0.17->stable-baselines3==0.8.0) (3.10.0)\n",
            "Requirement already satisfied: pyparsing!=2.0.4,!=2.1.2,!=2.1.6,>=2.0.1 in /usr/local/lib/python3.7/dist-packages (from matplotlib->stable-baselines3==0.8.0) (3.0.9)\n",
            "Requirement already satisfied: cycler>=0.10 in /usr/local/lib/python3.7/dist-packages (from matplotlib->stable-baselines3==0.8.0) (0.11.0)\n",
            "Requirement already satisfied: python-dateutil>=2.1 in /usr/local/lib/python3.7/dist-packages (from matplotlib->stable-baselines3==0.8.0) (2.8.2)\n",
            "Requirement already satisfied: kiwisolver>=1.0.1 in /usr/local/lib/python3.7/dist-packages (from matplotlib->stable-baselines3==0.8.0) (1.4.4)\n",
            "Requirement already satisfied: six>=1.5 in /usr/local/lib/python3.7/dist-packages (from python-dateutil>=2.1->matplotlib->stable-baselines3==0.8.0) (1.15.0)\n",
            "Requirement already satisfied: pytz>=2017.3 in /usr/local/lib/python3.7/dist-packages (from pandas->stable-baselines3==0.8.0) (2022.6)\n",
            "Installing collected packages: stable-baselines3\n",
            "Successfully installed stable-baselines3-0.8.0\n"
          ]
        }
      ],
      "source": [
        "!pip install stable-baselines3==0.8.0"
      ]
    },
    {
      "cell_type": "markdown",
      "metadata": {
        "id": "4ljXzd7W4R0H"
      },
      "source": [
        "Now that we have all package dependencies, let's clone the BOPTEST-Gym repository. We are going to clone the `boptest-gym-service` branch which works in the same way as the `master` branch but allows us to directly use the web-based version of BOPTEST that is readily available such that we do not have to deploy the building test case Docker containers locally.\n"
      ]
    },
    {
      "cell_type": "code",
      "execution_count": null,
      "metadata": {
        "colab": {
          "base_uri": "https://localhost:8080/"
        },
        "id": "McqIwvAz5ZuD",
        "outputId": "f1a66e15-14ae-4114-963c-54a3f24a7163"
      },
      "outputs": [
        {
          "output_type": "stream",
          "name": "stdout",
          "text": [
            "Cloning into 'project1-boptest-gym'...\n",
            "remote: Enumerating objects: 2909, done.\u001b[K\n",
            "remote: Counting objects: 100% (455/455), done.\u001b[K\n",
            "remote: Compressing objects: 100% (205/205), done.\u001b[K\n",
            "remote: Total 2909 (delta 228), reused 449 (delta 227), pack-reused 2454\u001b[K\n",
            "Receiving objects: 100% (2909/2909), 46.81 MiB | 18.22 MiB/s, done.\n",
            "Resolving deltas: 100% (1505/1505), done.\n"
          ]
        }
      ],
      "source": [
        "try:\n",
        "  !rm -rf project1-boptest-gym\n",
        "except:\n",
        "  pass\n",
        "!git clone -b boptest-gym-service https://github.com/ibpsa/project1-boptest-gym.git"
      ]
    },
    {
      "cell_type": "markdown",
      "metadata": {
        "id": "cs9guwYo5w50"
      },
      "source": [
        "Now we move our working directory to our recently cloned repository, import the `BoptestGymEnv` class, and instantiate our first BOPTEST-Gym environment!"
      ]
    },
    {
      "cell_type": "code",
      "execution_count": null,
      "metadata": {
        "colab": {
          "base_uri": "https://localhost:8080/"
        },
        "id": "mZsXUZIQ5iIj",
        "outputId": "ec7e409d-bd75-4751-9249-b861f98a8b44"
      },
      "outputs": [
        {
          "output_type": "stream",
          "name": "stderr",
          "text": [
            "/usr/local/lib/python3.7/dist-packages/gym/spaces/box.py:74: UserWarning: \u001b[33mWARN: Box bound precision lowered by casting to float32\u001b[0m\n",
            "  \"Box bound precision lowered by casting to {}\".format(self.dtype)\n"
          ]
        }
      ],
      "source": [
        "import os\n",
        "os.chdir('/content/project1-boptest-gym')\n",
        "from boptestGymEnv import BoptestGymEnv\n",
        "\n",
        "# Instantite environment\n",
        "env = BoptestGymEnv(url                   = url,\n",
        "                    testcase              = 'bestest_hydronic_heat_pump',\n",
        "                    actions               = ['oveHeaPumY_u'],\n",
        "                    observations          = {'reaTZon_y':(280.,310.)},\n",
        "                    random_start_time     = False,\n",
        "                    start_time            = 31*24*3600,\n",
        "                    max_episode_length    = 24*3600,\n",
        "                    warmup_period         = 24*3600,\n",
        "                    step_period           = 3600)"
      ]
    },
    {
      "cell_type": "markdown",
      "metadata": {
        "id": "8XVI61rnU4QZ"
      },
      "source": [
        "You have connected to a BOPTEST building emulator and wrapped it around a Gym environment. Let's examine more in detail the arguments that you have used:\n",
        "- `url`: the domain where your test case lives. In this case it is the url to BOPTEST-service, but it could be your localhost if you decide to spin a test case in your machine using Docker.\n",
        "- `testcase`: The string identifier of the testcase.\n",
        "- `actions`: List of strings indicating the action space.\n",
        "- `observations`: Dictionary mapping observation keys to a tuple with the lower and upper bound of each observation. These bounds define the typical operational range for discretization and normalization purposes. Observation keys must belong either to the set of measurements or to the set of forecasting variables of the BOPTEST test case.\n",
        "- `max_episode_lenght`: Maximum duration of each episode in seconds.\n",
        "- `random_start_time`: Set to True if desired to use a random start time for each episode. That is typically usefull when training an RL agent to run several episodes with different boundary condition data. In our case, we set it to False and specify the start time of the episode.\n",
        "- `start_time`: start time of the episode. It is specified in seconds from the beginning of the year. To be used in combination with `random_start_time=False`.  \n",
        "- `warmup_period`: Desired simulation period to initialize each episode, in seconds. In our case, we simulate the testcase for one day right before the beginning of the episode.\n",
        "- `step_period`: The period of each control step, in seconds. In this case is set to one hour."
      ]
    },
    {
      "cell_type": "markdown",
      "metadata": {
        "id": "-ZcNOH0SYEiR"
      },
      "source": [
        "Now you can interact with the building emulator following the Gym standard. Everytime you use one of the methods of your environment, BOPTEST-Gym will send the associated commands through the BOPTEST API that you have learned above as to provide the desired functionality. A schematic of this process is shown in the figure below. This figure illustrates the typical steps that take place when training an agent and the mapping between the BOPTEST-Gym interface and the BOPTEST API. It is important to note that a state can be returned not only with current measurements, but also with boundary condition forecast or regressive values."
      ]
    },
    {
      "cell_type": "markdown",
      "metadata": {
        "id": "rcnaIJvhYDa5"
      },
      "source": [
        "<img src=\"https://drive.google.com/uc?id=1057swXWvL11gyCqLCrUg9ooS1crD-1fp\" width=\"700\"/>\n",
        "\n",
        "*Figure: Sequence diagram for training an agent withthe BOPTEST-Gym environment.*"
      ]
    },
    {
      "cell_type": "markdown",
      "metadata": {
        "id": "AZVIz69qXyCZ"
      },
      "source": [
        "##**Interacting with a BOPTEST-Gym environment** <a name=\"interactingWithBoptestGym\"></a>"
      ]
    },
    {
      "cell_type": "markdown",
      "metadata": {
        "id": "dA9_wVo8bMxr"
      },
      "source": [
        "Let's see what we can do with our building Gym environment. Recall that the first step is using the `reset` method to simulate the building right before the episode start time a time period specified in `warmup_period`. This will bring the building to a reasonable initial state and the environment will return an observation `obs` which, in our case, it is comprised of only the zone operative temperature (`reaTZon_y`). This temperature is in Kelvins, so we convert it to degrees Celsius."
      ]
    },
    {
      "cell_type": "code",
      "execution_count": null,
      "metadata": {
        "colab": {
          "base_uri": "https://localhost:8080/"
        },
        "id": "Z4n5GsjXV08x",
        "outputId": "e4e26291-b613-45e4-c533-70312ae09a4d"
      },
      "outputs": [
        {
          "output_type": "stream",
          "name": "stdout",
          "text": [
            "Zone temperature: 21.37 degC\n",
            "Episode starting day: 31.0 (from beginning of the year)\n"
          ]
        }
      ],
      "source": [
        "obs = env.reset()\n",
        "print('Zone temperature: {:.2f} degC'.format(obs[0]-273.15))\n",
        "print('Episode starting day: {:.1f} (from beginning of the year)'.format(env.start_time/24/3600))"
      ]
    },
    {
      "cell_type": "markdown",
      "metadata": {
        "id": "IeJyBvLYqC11"
      },
      "source": [
        "📌 **Note: About initialization**\n",
        "\n",
        "The initial state in the emulator consists of all states after simulation during the warmup period without any external input from an external controller. This particular emulator has 63 continuous time states comprising temperatures of walls, floor, roof, water, etc. During the warmup period, the baseline controller embedded in the emulator is used. After initialization the baseline controller will also work at any time unless some of the control variables are intentionally overwritten by an external controller."
      ]
    },
    {
      "cell_type": "markdown",
      "metadata": {
        "id": "9i9VfDrdYJ0e"
      },
      "source": [
        "We can inspect the observation and action space of any environment as follows:"
      ]
    },
    {
      "cell_type": "code",
      "execution_count": null,
      "metadata": {
        "colab": {
          "base_uri": "https://localhost:8080/"
        },
        "id": "a_PC0YAEYR5U",
        "outputId": "536bfba1-2fdf-4246-a4b2-239e8d9f2756"
      },
      "outputs": [
        {
          "output_type": "stream",
          "name": "stdout",
          "text": [
            "Observation space of the building environment:\n",
            "Box([280.], [310.], (1,), float32)\n",
            "Action space of the building environment:\n",
            "Box([0.], [1.], (1,), float32)\n"
          ]
        }
      ],
      "source": [
        "print('Observation space of the building environment:')\n",
        "print(env.observation_space)\n",
        "print('Action space of the building environment:')\n",
        "print(env.action_space)"
      ]
    },
    {
      "cell_type": "markdown",
      "metadata": {
        "id": "SBVCnncbePIQ"
      },
      "source": [
        "So this environment has a Box (continuous and bounded) observation space which is the indoor building temperature. The operational range of this variable goes from $280$ $K$ to $310$ $K$. That is, from ~$7$ $°C$ to $37$ $°C$. On the other hand, the action space is a continuous variable that goes from $0$ to $1$. The latter variable represents the heat pump compressor frequency with $0$ meaning no heating, and $1$ meaning the heat pump working at full capacity.   "
      ]
    },
    {
      "cell_type": "markdown",
      "metadata": {
        "id": "pkx5Os6-Yltb"
      },
      "source": [
        "But actually, the BOPTEST-Gym environment can be directly printed to show a lot of useful information to control the building:"
      ]
    },
    {
      "cell_type": "code",
      "execution_count": null,
      "metadata": {
        "colab": {
          "base_uri": "https://localhost:8080/"
        },
        "id": "FGzL_ZskfoyO",
        "outputId": "e02f88b0-7063-4df9-8222-fbf2d58541f5"
      },
      "outputs": [
        {
          "output_type": "stream",
          "name": "stdout",
          "text": [
            "\n",
            "========================\n",
            "BOPTEST CASE INFORMATION\n",
            "========================\n",
            "\n",
            "Test case name\n",
            "--------------\n",
            "{'name': 'bestest_hydronic_heat_pump'}\n",
            "\n",
            "All measurement variables\n",
            "-------------------------\n",
            "{'reaCO2RooAir_y': {'Description': 'CO2 concentration in the zone',\n",
            "                    'Maximum': None,\n",
            "                    'Minimum': None,\n",
            "                    'Unit': 'ppm'},\n",
            " 'reaCOP_y': {'Description': 'Heat pump COP',\n",
            "              'Maximum': None,\n",
            "              'Minimum': None,\n",
            "              'Unit': '1'},\n",
            " 'reaPFan_y': {'Description': 'Electrical power of the heat pump evaporator '\n",
            "                              'fan',\n",
            "               'Maximum': None,\n",
            "               'Minimum': None,\n",
            "               'Unit': 'W'},\n",
            " 'reaPHeaPum_y': {'Description': 'Heat pump electrical power',\n",
            "                  'Maximum': None,\n",
            "                  'Minimum': None,\n",
            "                  'Unit': 'W'},\n",
            " 'reaPPumEmi_y': {'Description': 'Emission circuit pump electrical power',\n",
            "                  'Maximum': None,\n",
            "                  'Minimum': None,\n",
            "                  'Unit': 'W'},\n",
            " 'reaQFloHea_y': {'Description': 'Floor heating thermal power released to the '\n",
            "                                 'zone',\n",
            "                  'Maximum': None,\n",
            "                  'Minimum': None,\n",
            "                  'Unit': 'W'},\n",
            " 'reaQHeaPumCon_y': {'Description': 'Heat pump thermal power exchanged in the '\n",
            "                                    'condenser',\n",
            "                     'Maximum': None,\n",
            "                     'Minimum': None,\n",
            "                     'Unit': 'W'},\n",
            " 'reaQHeaPumEva_y': {'Description': 'Heat pump thermal power exchanged in the '\n",
            "                                    'evaporator',\n",
            "                     'Maximum': None,\n",
            "                     'Minimum': None,\n",
            "                     'Unit': 'W'},\n",
            " 'reaTRet_y': {'Description': 'Return water temperature from radiant floor',\n",
            "               'Maximum': None,\n",
            "               'Minimum': None,\n",
            "               'Unit': 'K'},\n",
            " 'reaTSetCoo_y': {'Description': 'Zone operative temperature setpoint for '\n",
            "                                 'cooling',\n",
            "                  'Maximum': None,\n",
            "                  'Minimum': None,\n",
            "                  'Unit': 'K'},\n",
            " 'reaTSetHea_y': {'Description': 'Zone operative temperature setpoint for '\n",
            "                                 'heating',\n",
            "                  'Maximum': None,\n",
            "                  'Minimum': None,\n",
            "                  'Unit': 'K'},\n",
            " 'reaTSup_y': {'Description': 'Supply water temperature to radiant floor',\n",
            "               'Maximum': None,\n",
            "               'Minimum': None,\n",
            "               'Unit': 'K'},\n",
            " 'reaTZon_y': {'Description': 'Zone operative temperature',\n",
            "               'Maximum': None,\n",
            "               'Minimum': None,\n",
            "               'Unit': 'K'},\n",
            " 'weaSta_reaWeaCeiHei_y': {'Description': 'Cloud cover ceiling height '\n",
            "                                          'measurement',\n",
            "                           'Maximum': None,\n",
            "                           'Minimum': None,\n",
            "                           'Unit': 'm'},\n",
            " 'weaSta_reaWeaCloTim_y': {'Description': 'Day number with units of seconds',\n",
            "                           'Maximum': None,\n",
            "                           'Minimum': None,\n",
            "                           'Unit': 's'},\n",
            " 'weaSta_reaWeaHDifHor_y': {'Description': 'Horizontal diffuse solar radiation '\n",
            "                                           'measurement',\n",
            "                            'Maximum': None,\n",
            "                            'Minimum': None,\n",
            "                            'Unit': 'W/m2'},\n",
            " 'weaSta_reaWeaHDirNor_y': {'Description': 'Direct normal radiation '\n",
            "                                           'measurement',\n",
            "                            'Maximum': None,\n",
            "                            'Minimum': None,\n",
            "                            'Unit': 'W/m2'},\n",
            " 'weaSta_reaWeaHGloHor_y': {'Description': 'Global horizontal solar '\n",
            "                                           'irradiation measurement',\n",
            "                            'Maximum': None,\n",
            "                            'Minimum': None,\n",
            "                            'Unit': 'W/m2'},\n",
            " 'weaSta_reaWeaHHorIR_y': {'Description': 'Horizontal infrared irradiation '\n",
            "                                          'measurement',\n",
            "                           'Maximum': None,\n",
            "                           'Minimum': None,\n",
            "                           'Unit': 'W/m2'},\n",
            " 'weaSta_reaWeaLat_y': {'Description': 'Latitude of the location',\n",
            "                        'Maximum': None,\n",
            "                        'Minimum': None,\n",
            "                        'Unit': 'rad'},\n",
            " 'weaSta_reaWeaLon_y': {'Description': 'Longitude of the location',\n",
            "                        'Maximum': None,\n",
            "                        'Minimum': None,\n",
            "                        'Unit': 'rad'},\n",
            " 'weaSta_reaWeaNOpa_y': {'Description': 'Opaque sky cover measurement',\n",
            "                         'Maximum': None,\n",
            "                         'Minimum': None,\n",
            "                         'Unit': '1'},\n",
            " 'weaSta_reaWeaNTot_y': {'Description': 'Sky cover measurement',\n",
            "                         'Maximum': None,\n",
            "                         'Minimum': None,\n",
            "                         'Unit': '1'},\n",
            " 'weaSta_reaWeaPAtm_y': {'Description': 'Atmospheric pressure measurement',\n",
            "                         'Maximum': None,\n",
            "                         'Minimum': None,\n",
            "                         'Unit': 'Pa'},\n",
            " 'weaSta_reaWeaRelHum_y': {'Description': 'Outside relative humidity '\n",
            "                                          'measurement',\n",
            "                           'Maximum': None,\n",
            "                           'Minimum': None,\n",
            "                           'Unit': '1'},\n",
            " 'weaSta_reaWeaSolAlt_y': {'Description': 'Solar altitude angle measurement',\n",
            "                           'Maximum': None,\n",
            "                           'Minimum': None,\n",
            "                           'Unit': 'rad'},\n",
            " 'weaSta_reaWeaSolDec_y': {'Description': 'Solar declination angle measurement',\n",
            "                           'Maximum': None,\n",
            "                           'Minimum': None,\n",
            "                           'Unit': 'rad'},\n",
            " 'weaSta_reaWeaSolHouAng_y': {'Description': 'Solar hour angle measurement',\n",
            "                              'Maximum': None,\n",
            "                              'Minimum': None,\n",
            "                              'Unit': 'rad'},\n",
            " 'weaSta_reaWeaSolTim_y': {'Description': 'Solar time',\n",
            "                           'Maximum': None,\n",
            "                           'Minimum': None,\n",
            "                           'Unit': 's'},\n",
            " 'weaSta_reaWeaSolZen_y': {'Description': 'Solar zenith angle measurement',\n",
            "                           'Maximum': None,\n",
            "                           'Minimum': None,\n",
            "                           'Unit': 'rad'},\n",
            " 'weaSta_reaWeaTBlaSky_y': {'Description': 'Black-body sky temperature '\n",
            "                                           'measurement',\n",
            "                            'Maximum': None,\n",
            "                            'Minimum': None,\n",
            "                            'Unit': 'K'},\n",
            " 'weaSta_reaWeaTDewPoi_y': {'Description': 'Dew point temperature measurement',\n",
            "                            'Maximum': None,\n",
            "                            'Minimum': None,\n",
            "                            'Unit': 'K'},\n",
            " 'weaSta_reaWeaTDryBul_y': {'Description': 'Outside drybulb temperature '\n",
            "                                           'measurement',\n",
            "                            'Maximum': None,\n",
            "                            'Minimum': None,\n",
            "                            'Unit': 'K'},\n",
            " 'weaSta_reaWeaTWetBul_y': {'Description': 'Wet bulb temperature measurement',\n",
            "                            'Maximum': None,\n",
            "                            'Minimum': None,\n",
            "                            'Unit': 'K'},\n",
            " 'weaSta_reaWeaWinDir_y': {'Description': 'Wind direction measurement',\n",
            "                           'Maximum': None,\n",
            "                           'Minimum': None,\n",
            "                           'Unit': 'rad'},\n",
            " 'weaSta_reaWeaWinSpe_y': {'Description': 'Wind speed measurement',\n",
            "                           'Maximum': None,\n",
            "                           'Minimum': None,\n",
            "                           'Unit': 'm/s'}}\n",
            "\n",
            "All forecasting variables\n",
            "-------------------------\n",
            "['winDir',\n",
            " 'TDewPoi',\n",
            " 'LowerSetp[1]',\n",
            " 'PriceElectricPowerConstant',\n",
            " 'UpperSetp[1]',\n",
            " 'PriceElectricPowerHighlyDynamic',\n",
            " 'solTim',\n",
            " 'solHouAng',\n",
            " 'nOpa',\n",
            " 'InternalGainsRad[1]',\n",
            " 'nTot',\n",
            " 'HGloHor',\n",
            " 'winSpe',\n",
            " 'TBlaSky',\n",
            " 'solDec',\n",
            " 'lon',\n",
            " 'PriceElectricPowerDynamic',\n",
            " 'HDifHor',\n",
            " 'InternalGainsCon[1]',\n",
            " 'solZen',\n",
            " 'HHorIR',\n",
            " 'relHum',\n",
            " 'pAtm',\n",
            " 'Occupancy[1]',\n",
            " 'ceiHei',\n",
            " 'lat',\n",
            " 'InternalGainsLat[1]',\n",
            " 'TWetBul',\n",
            " 'TDryBul',\n",
            " 'HDirNor',\n",
            " 'EmissionsElectricPower',\n",
            " 'cloTim',\n",
            " 'solAlt',\n",
            " 'time',\n",
            " 'UpperCO2[1]']\n",
            "\n",
            "All input variables\n",
            "-------------------\n",
            "{'oveFan_activate': {'Description': 'Activation for Integer signal to control '\n",
            "                                    'the heat pump evaporator fan either on or '\n",
            "                                    'off',\n",
            "                     'Maximum': None,\n",
            "                     'Minimum': None,\n",
            "                     'Unit': None},\n",
            " 'oveFan_u': {'Description': 'Integer signal to control the heat pump '\n",
            "                             'evaporator fan either on or off',\n",
            "              'Maximum': 1,\n",
            "              'Minimum': 0,\n",
            "              'Unit': '1'},\n",
            " 'oveHeaPumY_activate': {'Description': 'Activation for Heat pump modulating '\n",
            "                                        'signal for compressor speed between 0 '\n",
            "                                        '(not working) and 1 (working at '\n",
            "                                        'maximum capacity)',\n",
            "                         'Maximum': None,\n",
            "                         'Minimum': None,\n",
            "                         'Unit': None},\n",
            " 'oveHeaPumY_u': {'Description': 'Heat pump modulating signal for compressor '\n",
            "                                 'speed between 0 (not working) and 1 (working '\n",
            "                                 'at maximum capacity)',\n",
            "                  'Maximum': 1,\n",
            "                  'Minimum': 0,\n",
            "                  'Unit': '1'},\n",
            " 'ovePum_activate': {'Description': 'Activation for Integer signal to control '\n",
            "                                    'the emission circuit pump either on or '\n",
            "                                    'off',\n",
            "                     'Maximum': None,\n",
            "                     'Minimum': None,\n",
            "                     'Unit': None},\n",
            " 'ovePum_u': {'Description': 'Integer signal to control the emission circuit '\n",
            "                             'pump either on or off',\n",
            "              'Maximum': 1,\n",
            "              'Minimum': 0,\n",
            "              'Unit': '1'},\n",
            " 'oveTSet_activate': {'Description': 'Activation for Zone operative '\n",
            "                                     'temperature setpoint',\n",
            "                      'Maximum': None,\n",
            "                      'Minimum': None,\n",
            "                      'Unit': None},\n",
            " 'oveTSet_u': {'Description': 'Zone operative temperature setpoint',\n",
            "               'Maximum': 308.15,\n",
            "               'Minimum': 278.15,\n",
            "               'Unit': 'K'}}\n",
            "\n",
            "Default simulation step (seconds)\n",
            "---------------------------------\n",
            "3600\n",
            "\n",
            "Default forecasting parameters (seconds)\n",
            "----------------------------------------\n",
            "{'horizon': 86400, 'interval': 3600}\n",
            "\n",
            "Default scenario\n",
            "----------------\n",
            "{'electricity_price': 'constant'}\n",
            "\n",
            "Test case scenario\n",
            "------------------\n",
            "{'electricity_price': 'constant'}\n",
            "\n",
            "===========================\n",
            "GYM ENVIRONMENT INFORMATION\n",
            "===========================\n",
            "\n",
            "Observation space\n",
            "-----------------\n",
            "Box([280.], [310.], (1,), float32)\n",
            "\n",
            "Action space\n",
            "------------\n",
            "Box([0.], [1.], (1,), float32)\n",
            "\n",
            "Is a regressive environment\n",
            "---------------------------\n",
            "False\n",
            "\n",
            "Is a predictive environment\n",
            "---------------------------\n",
            "False\n",
            "\n",
            "Regressive period (seconds)\n",
            "---------------------------\n",
            "None\n",
            "\n",
            "Predictive period (seconds)\n",
            "---------------------------\n",
            "None\n",
            "\n",
            "Measurement variables used in observation space\n",
            "-----------------------------------------------\n",
            "['reaTZon_y']\n",
            "\n",
            "Predictive variables used in observation space\n",
            "----------------------------------------------\n",
            "[]\n",
            "\n",
            "Sampling time (seconds)\n",
            "-----------------------\n",
            "3600\n",
            "\n",
            "Random start time\n",
            "-----------------\n",
            "False\n",
            "\n",
            "Excluding periods (seconds from the beginning of the year)\n",
            "----------------------------------------------------------\n",
            "None\n",
            "\n",
            "Warmup period for each episode (seconds)\n",
            "----------------------------------------\n",
            "86400\n",
            "\n",
            "Maximum episode length (seconds)\n",
            "--------------------------------\n",
            "86400\n",
            "\n",
            "Environment reward function (source code)\n",
            "-----------------------------------------\n",
            "('    def compute_reward(self):\\n'\n",
            " \"        '''\\n\"\n",
            " \"        Compute the reward of last state-action-state' tuple. The \\n\"\n",
            " '        reward is implemented as the negated increase in the objective\\n'\n",
            " '        integrand function. In turn, this objective integrand function \\n'\n",
            " '        is calculated as the sum of the total operational cost plus\\n'\n",
            " '        the weighted discomfort. \\n'\n",
            " '        \\n'\n",
            " '        Returns\\n'\n",
            " '        -------\\n'\n",
            " '        Reward: float\\n'\n",
            " \"            Reward of last state-action-state' tuple\\n\"\n",
            " '        \\n'\n",
            " '        Notes\\n'\n",
            " '        -----\\n'\n",
            " '        This method is just a default method to compute reward. It can be \\n'\n",
            " '        overridden by defining a child from this class with\\n'\n",
            " '        this same method name, i.e. `compute_reward`. If a custom reward \\n'\n",
            " '        is defined, it is strongly recommended to derive it using the KPIs\\n'\n",
            " '        as returned from the BOPTEST framework, as it is done in this \\n'\n",
            " '        default `compute_reward` method. This ensures that all variables \\n'\n",
            " '        that may contribute to any KPI are properly accounted and \\n'\n",
            " '        integrated. \\n'\n",
            " '        \\n'\n",
            " \"        '''\\n\"\n",
            " '        \\n'\n",
            " '        # Define a relative weight for the discomfort \\n'\n",
            " '        w = 1\\n'\n",
            " '        \\n'\n",
            " '        # Compute BOPTEST core kpis\\n'\n",
            " '        kpis = '\n",
            " \"requests.get('{0}/kpi/{1}'.format(self.url,self.testid)).json()['payload']\\n\"\n",
            " '        \\n'\n",
            " '        # Calculate objective integrand function at this point\\n'\n",
            " \"        objective_integrand = kpis['cost_tot'] + w*kpis['tdis_tot']\\n\"\n",
            " '        \\n'\n",
            " '        # Compute reward\\n'\n",
            " '        reward = -(objective_integrand - self.objective_integrand)\\n'\n",
            " '        \\n'\n",
            " '        self.objective_integrand = objective_integrand\\n'\n",
            " '        \\n'\n",
            " '        return reward\\n')\n",
            "\n",
            "Environment hierarchy\n",
            "---------------------\n",
            "(<class 'boptestGymEnv.BoptestGymEnv'>,\n",
            " <class 'gym.core.Env'>,\n",
            " <class 'object'>)\n",
            "\n",
            "\n"
          ]
        }
      ],
      "source": [
        "print(env)"
      ]
    },
    {
      "cell_type": "markdown",
      "metadata": {
        "id": "-KYf1BksgfQj"
      },
      "source": [
        "Note that this descriptive summary provides information not only about the Gym environment but also all information about the original BOPTEST test case. This may be useful, for example, if we want to extend our observation space or if we want to change our control action."
      ]
    },
    {
      "cell_type": "markdown",
      "metadata": {
        "id": "zQ_y22lrg1cM"
      },
      "source": [
        "BOPTEST-Gym comes along with other functionality that may be useful when training RL agents, like the capacity to discretize and normalize observation and action spaces. For instance, we are dealing now with continuous action environment meaning that the agent could decide to take any action between 0 and 1. However, it is probably helpful to the agent to decide on just whether the heating needs to be turned on (action=1) or off (action=0). For that, we can wrap our environment around a discretization wrapper with only one action bin (one bin has two extremes).  The concept of wrappers is very powerful in Gym environments. With them, we are capable to customize observation, action, step function, etc. of an environment. No matter how many wrappers are applied, `env.unwrapped` always gives back the internal original environment object. Let's see how it works with BOPTEST-Gym:"
      ]
    },
    {
      "cell_type": "code",
      "execution_count": null,
      "metadata": {
        "colab": {
          "base_uri": "https://localhost:8080/"
        },
        "id": "zIqfeNwgh9VK",
        "outputId": "dfcd55ac-f732-4c0d-d79a-8eca0fdffef9"
      },
      "outputs": [
        {
          "output_type": "stream",
          "name": "stdout",
          "text": [
            "Action space of the wrapped agent:\n",
            "Discrete(2)\n",
            "Action space of the original agent:\n",
            "Box([0.], [1.], (1,), float32)\n"
          ]
        }
      ],
      "source": [
        "from boptestGymEnv import DiscretizedActionWrapper\n",
        "env = DiscretizedActionWrapper(env,n_bins_act=1)\n",
        "print('Action space of the wrapped agent:')\n",
        "print(env.action_space)\n",
        "print('Action space of the original agent:')\n",
        "print(env.unwrapped.action_space)"
      ]
    },
    {
      "cell_type": "markdown",
      "metadata": {
        "id": "Ghlx_zaf282q"
      },
      "source": [
        "Another thing that we can do is to interact with the building environment for one episode of experience (one day). This is similar to what we did with the Cartpole example, but this time we are going to run just one episode and use a hysteresis controller that will turn on the heating the temperature is below a predefined temperature setpoint, and turn it off when the temperature goes above the setpoint. We first configure such controller:"
      ]
    },
    {
      "cell_type": "code",
      "execution_count": null,
      "metadata": {
        "id": "MrO0o7hNf5pB"
      },
      "outputs": [],
      "source": [
        "import numpy as np\n",
        "np.set_printoptions(precision=3)\n",
        "\n",
        "class SimpleController(object):\n",
        "    '''Simple controller for this emulator.\n",
        "\n",
        "    '''\n",
        "    def __init__(self, TSet=22+273.15):\n",
        "        self.TSet = TSet\n",
        "\n",
        "    def predict(self, obs):\n",
        "        # Compute control\n",
        "        if obs[0]<self.TSet:\n",
        "            action = np.asarray(1) # Turn on heating\n",
        "        else:\n",
        "            action = np.asarray(0) # No heating needed\n",
        "\n",
        "        return action"
      ]
    },
    {
      "cell_type": "markdown",
      "metadata": {
        "id": "jGgb8vKYn1ce"
      },
      "source": [
        "And now we implement the controller in a simulation loop."
      ]
    },
    {
      "cell_type": "code",
      "execution_count": null,
      "metadata": {
        "colab": {
          "base_uri": "https://localhost:8080/"
        },
        "id": "DVOu1AK2Avz1",
        "outputId": "2e28fd4d-5c3a-4ad0-ff71-85fee4b9c449"
      },
      "outputs": [
        {
          "output_type": "stream",
          "name": "stdout",
          "text": [
            "-------------------------------------------------------------------\n",
            "Operative temperature [degC]  = 22.05\n",
            "Action                [ - ]   = 0\n",
            "-------------------------------------------------------------------\n"
          ]
        }
      ],
      "source": [
        "model = SimpleController(TSet=22+273.15)\n",
        "\n",
        "done = False\n",
        "obs = env.reset()\n",
        "\n",
        "from IPython.display import clear_output\n",
        "while not done:\n",
        "  # Clear the display output at each step\n",
        "  clear_output(wait=True)\n",
        "  # Compute control signal\n",
        "  action = model.predict(obs)\n",
        "  # Print the current operative temperature and decided action\n",
        "  print('-------------------------------------------------------------------')\n",
        "  print('Operative temperature [degC]  = {:.2f}'.format(obs[0]-273.15))\n",
        "  print('Action                [ - ]   = {:.0f}'.format(action))\n",
        "  print('-------------------------------------------------------------------')\n",
        "  # Implement action\n",
        "  obs,reward,done,info = env.step(action) # send the action to the environment"
      ]
    },
    {
      "cell_type": "markdown",
      "metadata": {
        "id": "fFN2U0ZYDFV4"
      },
      "source": [
        "Note how the controller decides to turn on heating (`action=1`) when indoor temperature is below the setpoint, and it turns it off when the temperature is above the setpoint."
      ]
    },
    {
      "cell_type": "markdown",
      "metadata": {
        "id": "fwCVNv94AxJP"
      },
      "source": [
        "⚠️ **Important note:** ⚠️ The controller is instantiated as `model` because RL agents typically use models (e.g. any general function approximator like neural networks to represent their policies). The choice of the instance name is arbitrary, but `model` has been historically accepted in different RL frameworks like Stable Baselines. We could have chosen any other name, but we use `model` to start getting familiar with this convention. The `predict` method is used to estimate the action to be taken according to the RL agent's model.   \n"
      ]
    },
    {
      "cell_type": "markdown",
      "metadata": {
        "id": "EKBjnzycaCS4"
      },
      "source": [
        "##**Developing a basic RL algorithm** <a name=\"developingRlAlgo\"></a>"
      ]
    },
    {
      "cell_type": "markdown",
      "metadata": {
        "id": "JAIt_IfivAHN"
      },
      "source": [
        "In this section we are going to develop a very simple RL agent based on the very well known *q-learning* algorithm. Although simple, this exercise will help us understand the main concepts of RL and how this machine learning technique can be helpful to mitigate climate change by enhancing building's operational efficiency. Recall that our objective is to develop an RL agent that can decide on the best action to take in each situation (each state) just from interactions with the environment (the building). Imagine we are at time $k$ in a certain state $\\pmb{s}$ and take an action $\\pmb{a}$. In return, we obtain a reward $r'$ the next time step and end up in a state $\\pmb{s}'$ :"
      ]
    },
    {
      "cell_type": "markdown",
      "metadata": {
        "id": "nxO3gVx3vqrL"
      },
      "source": [
        "![](https://drive.google.com/file/d/1XVbDEiHT2fWIGtnPLE0uphC2hV5XubKc/view?usp=sharing)\n",
        "\n",
        "<img src=\"https://drive.google.com/uc?id=1C_ARg1Ycn6KatsEpFYWURLPMaSwDp57v\" width=\"300\"/>\n",
        "\n",
        "*Figure: The backup diagram. Edited version from the book of Richard S. Sutton and Andrew G. Barto* **[6]**."
      ]
    },
    {
      "cell_type": "markdown",
      "metadata": {
        "id": "XflFYx7lylyw"
      },
      "source": [
        "In *q-learning* we aim to derive an *action-value function*, the q-function. The q-function indicates what is the **long-term** value of taking an action $a$ from a certain state $s$. With this information we not only have an estimation of the value of each state, but we can also decide to take the next action $\\pmb{a}'$ that leads to the highest value from the next state $\\pmb{s}'$. This principle relies on the so-called *Bellman optimality equation* that is presented below:\n",
        "\n",
        "\\begin{align}\n",
        "  q(\\pmb{s},\\pmb{a}) = r' + \\gamma \\max_{\\pmb{a}'} q(\\pmb{s}',\\pmb{a}')\n",
        "\\end{align}\n",
        "\n",
        "This equation states that the total expected cummulative return of taking action $\\pmb{a}$ from state $\\pmb{s}$ equals the immediate reward $r'$ plus the maximum achievable reward that we can obtain from the following state $\\pmb{s}'$. Note that the q-function estimates the **TOTAL EXPECTED CUMULATIVE RETURN** of taking action $\\pmb{a}$ from state $\\pmb{s}$ (not just the immediate reward). So given the q-function we can know straight-away what is the best action to take for each state $\\pmb{s}$. You can imagine a q-function with one-dimensional state and action spaces as follows:"
      ]
    },
    {
      "cell_type": "markdown",
      "metadata": {
        "id": "HBpa3qjuysK-"
      },
      "source": [
        "<a name=\"qFunctionConcept\"></a>\n",
        "\n",
        "<img src=\"https://drive.google.com/uc?id=1k1j__DXF3AWTxMN_pH42LTuajkiYzf-H\" width=\"300\"/>\n",
        "\n",
        "*Figure: Example of how a q-function may look like for the case with one-dimensional state and action spaces. Note that, given the q-function, we can pick the action $a$ that leads to the highest expected cumulative reward $q_*$ from state $s$.*\n",
        "\n"
      ]
    },
    {
      "cell_type": "markdown",
      "metadata": {
        "id": "db8AVf3GoCz9"
      },
      "source": [
        "Powerful, right? now the question remains how to derive the q-function 😅.\n",
        "\n",
        "The q-function is inferred iteratively using the reward received by the agent each control step and bootstrapping with the Bellman optimality equation presented above. The sum of the immediate reward and the next-state q-function estimate is called the target. We use this target to recursively update the q-function at a learning rate $\\alpha$. The difference between the target and our current q-function estimate is called *temporal difference*. In summary, the q-learning method consists of recursively updating the q-function using the following formula:\n",
        "\n",
        "\\begin{align}\n",
        "  q(\\pmb{s},\\pmb{a}) = q(\\pmb{s},\\pmb{a}) + \\alpha [ \\underbrace{\\underbrace{r' + \\gamma \\max_{\\pmb{a}'} q(\\pmb{s}',\\pmb{a}')}_\\text{target} - q(\\pmb{s},\\pmb{a})}_\\text{temporal difference}]\n",
        "\\end{align}\n",
        "\n"
      ]
    },
    {
      "cell_type": "markdown",
      "metadata": {
        "id": "qjBqNfXd_pY2"
      },
      "source": [
        "So in summary, the agent observes the reward once it has taken an action from a state. It has to explore the rewards from different state-action pairs and update its q-function as it goes.\n",
        "\n",
        "In our example we are going to use tabular state and action spaces to expedite learning and to easily store and visualize the q-function. Note, however, that we could use general function approximators like neural networks to configure the q-function.\n",
        "\n",
        "📌 **Note: The exploration-exploitation dilema** ⚖️\n",
        "\n",
        "RL always faces the so-called exploration-exploitation dilema. That is, how much of what we have learned we should exploit and how much we should explore to find even better solutions? In our case, we implement an *Epsilon-greedy* approach to balance exploration and exploitation of the RL agent. That is, the agent sometimes picks a random action (exploration), and sometimes picks an \"intelligent\" action (exploitation). The frequency at which the agent picks a random action is determined by *Epsilon* (`eps`) and it follows a linearly decaying schedule."
      ]
    },
    {
      "cell_type": "markdown",
      "metadata": {
        "id": "ZQ7Um2UtLHk4"
      },
      "source": [
        "<img src=\"https://drive.google.com/uc?id=1Tw2jNRdRe9KKa2i7z3gdu4dcKnqXLIxG\" width=\"400\"/>\n",
        "\n",
        "*Figure: The epsilon-greedy strategy for balancing exploration and exploitation.*\n"
      ]
    },
    {
      "cell_type": "markdown",
      "metadata": {
        "id": "6aOHW96nLqOZ"
      },
      "source": [
        "Our `Q_Learning_Agent` consists of only three methods:\n",
        "\n",
        "- `__init__` ➡️ The constructor.\n",
        "- `predict` ➡️ Method to decide on an action given an observation.\n",
        "- `learn` ➡️ Method for learning with the q-learning method explained above.\n"
      ]
    },
    {
      "cell_type": "code",
      "execution_count": null,
      "metadata": {
        "id": "9U81QUVcUfoW"
      },
      "outputs": [],
      "source": [
        "class Q_Learning_Agent(object):\n",
        "\n",
        "  def __init__(self, env, eps_min=0.01, eps_decay=0.01, alpha=0.05, gamma=0.9):\n",
        "    '''Constructor of q-learning agent. Assumes discrete state and action spaces.\n",
        "\n",
        "    '''\n",
        "    self.env       = env\n",
        "    self.eps_min   = eps_min\n",
        "    self.eps_decay = eps_decay\n",
        "    self.alpha     = alpha\n",
        "    self.gamma     = gamma\n",
        "\n",
        "    # Initialize epsilon\n",
        "    self.eps       = 1.0\n",
        "\n",
        "    # Initialize q-function as a null function\n",
        "    self.q = np.zeros((env.observation_space.n,\n",
        "                       env.action_space.n))\n",
        "\n",
        "  def predict(self, obs, deterministic=True):\n",
        "    '''Method to select an action with an epsilon-greedy policy.\n",
        "\n",
        "    '''\n",
        "    if deterministic:\n",
        "      # Use q-function to decide action\n",
        "      return np.argmax(self.q[obs])\n",
        "    else:\n",
        "      if self.eps > self.eps_min:\n",
        "        # Linearly decreasing schedule\n",
        "        self.eps -= self.eps_decay\n",
        "      if np.random.random() < self.eps:\n",
        "        # Explore with random action\n",
        "        return np.random.choice([a for a in range(env.action_space.n)])\n",
        "      else:\n",
        "        # Exploit the information of our q-function\n",
        "        return np.argmax(self.q[obs])\n",
        "\n",
        "  def learn(self, total_episodes=10):\n",
        "    '''Learn from a number of interactions with the environment.\n",
        "\n",
        "    '''\n",
        "    for i in range(total_episodes):\n",
        "      # Initialize enviornment\n",
        "      done = False\n",
        "      obs  = env.reset()\n",
        "      # Print episode number and starting day from beginning of the year:\n",
        "      print('-------------------------------------------------------------------')\n",
        "      print('Episode number: {0}, starting day: {1:.1f} ' \\\n",
        "            '(from beginning of the year)'.format(i+1, env.unwrapped.start_time/24/3600))\n",
        "\n",
        "      while not done:\n",
        "        # Get action with epsilon-greedy policy and simulate\n",
        "        act                   = self.predict(obs, deterministic=False)\n",
        "        nxt_obs, rew, done, _ = env.step(act)\n",
        "        # Compute temporal difference target and error to udpate q-function\n",
        "        td_target         = rew + self.gamma*np.max(self.q[nxt_obs])\n",
        "        td_error          = td_target - self.q[obs][act]\n",
        "        self.q[obs][act] += self.alpha*td_error\n",
        "        # Make our next observation the current observation\n",
        "        obs = nxt_obs\n",
        "      # Print the q-function after every episode to show progress\n",
        "      print('q(s,a) = ')\n",
        "      print(self.q)"
      ]
    },
    {
      "cell_type": "markdown",
      "metadata": {
        "id": "RWPbW8WKaQET"
      },
      "source": [
        "##**Testing our RL algorithm in BOPTEST-Gym** <a name=\"testingRlAlgo\"></a>"
      ]
    },
    {
      "cell_type": "markdown",
      "metadata": {
        "id": "SV8bk8x75C_0"
      },
      "source": [
        "Now that we have a RL agent ready, let's test it in BOPTEST-Gym! We are going to exploit the features of BOPTEST-Gym to:\n",
        "\n",
        "- Define a custom reward function of the enviornment.\n",
        "- Instantiate the environment and define its state and action spaces.\n",
        "- Train our RL agent.\n",
        "\n",
        "<!-- - Exclude periods that are not interesting for learning (we will only keep the Winter period).\n",
        "- Discretize the state and action spaces of the environment.  -->"
      ]
    },
    {
      "cell_type": "markdown",
      "metadata": {
        "id": "wy1TpSGEPxYr"
      },
      "source": [
        "### Define a custom reward function of the environment"
      ]
    },
    {
      "cell_type": "markdown",
      "metadata": {
        "id": "J9jwn5BQQCyj"
      },
      "source": [
        "The definition of the reward function is **KEY**🗝 since it is what drives the learning of an agent.\n",
        "The `BoptestGymEnv` Class allows to override its `compute_reward` method that is called every control step as to freely define any reward function of choice.\n",
        "\n",
        "In our example, the goal is to implement a RL agent to identify the actions that keep comfort inside the building, and we should encode our reward function accordingly. We could implement this function by integrating the temperature deviations out of the comfort range. However, this approach is error-prone. We typically want to directly use signals from the environment to define the reward, preferrably those that are directly related to the function we want to optimize so that we make sure we strive for the ground truth optimum. In BOPTEST we use the `GET /kpis` API to obtain the so-called core KPIs at the present time, which are:\n",
        "\n",
        "\n",
        "*   **Thermal discomfort**:  reported with units of [$K \\, h/zone$], defines the cumulative deviation of zone temperatures from upper and lower comfort limits that are predefined within the test case FMU for each zone, averaged over all zones.  Air temperature is used for air-based systems and operative temperature is used for radiant systems.\n",
        "*   **Indoor Air Quality (IAQ) Discomfort**: reported with units of [$ppm \\, h/zone$], defines the extent that the CO$_2$ concentration levels in zones exceed  bounds of the acceptable concentration level, which are predefined within the test case FMU for each zone, averaged over all zones.\n",
        "*   **Energy Use**: reported with units of [$kWh/m^2$], defines the HVAC energy usage.\n",
        "*   **Cost**: reported with units of [USD/$m^2$] or [EUR/$m^2$], defines the operational cost associated with the HVAC energy usage.\n",
        "*   **Emissions**: reported with units of  [$kg \\, CO_2/m^2$], defines the CO$_2$ emissions from the HVAC energy usage.\n",
        "*   **Computational time ratio**: defines the average ratio between the controller computation time and the test simulation control step. The controller computation time is measured as the time between two emulator advances.\n",
        "\n",
        "The time series graph below shows how thermal discomfort and energy use are computed by the BOPTEST `GET /kpis` API call.\n",
        "\n"
      ]
    },
    {
      "cell_type": "markdown",
      "metadata": {
        "id": "ZQagxsvtr3ow"
      },
      "source": [
        "<img src=\"https://drive.google.com/uc?id=1EceXX2LlgsDTGuqjnii8hRONHMRX--Wi\" width=\"500\"/>\n",
        "\n",
        "*Figure: Integration of thermal discomfort (top) and energy use (bottom). In BOPTEST, the `GET /kpis` API can directly return these values every control step. Note that the integration step is significantly smaller than the control step.*"
      ]
    },
    {
      "cell_type": "markdown",
      "metadata": {
        "id": "esAUAwHdr8y1"
      },
      "source": [
        "The core KPIs are normally calculated at the end of the simulation to assess the controller performance, although they can be computed at any time.  The warmup period is not taken into account for the calculation of the KPIs. See below how we define the `compute_reward` method using the `GET /kpi`. Every control step we check whether there has been a discomfort increment. If there is not discomfort increment, we reward our agent with $1$, otherwise we return a $0$ (no reward). Clipping the reward is a good practice to accelerate learning."
      ]
    },
    {
      "cell_type": "code",
      "execution_count": null,
      "metadata": {
        "id": "hTcc3XiVP-A6"
      },
      "outputs": [],
      "source": [
        "# Redefine reward function\n",
        "class BoptestGymEnvCustomReward(BoptestGymEnv):\n",
        "    '''Define a custom reward for this building\n",
        "\n",
        "    '''\n",
        "    def compute_reward(self):\n",
        "        '''Custom reward function. To expedite learning, we use a clipped reward\n",
        "        function that has a value of 1 when there is no increase in discomfort\n",
        "        and 0 otherwise. We use the BOPTEST `GET /kpis` API call to compute the\n",
        "        total cummulative discomfort from the beginning of the episode. Note\n",
        "        that this is the true value that BOPTEST uses when evaluating\n",
        "        controllers.\n",
        "\n",
        "        '''\n",
        "        # Compute BOPTEST core kpis\n",
        "        kpis = requests.get('{0}/kpi/{1}'.format(self.url, self.testid)).json()['payload']\n",
        "        # Calculate objective integrand function as the total discomfort\n",
        "        objective_integrand = kpis['tdis_tot']\n",
        "        # Give reward if there is not immediate increment in discomfort\n",
        "        if objective_integrand == self.objective_integrand:\n",
        "          reward=1\n",
        "        else:\n",
        "          reward=0\n",
        "        # Record current objective integrand for next evaluation\n",
        "        self.objective_integrand = objective_integrand\n",
        "        return reward"
      ]
    },
    {
      "cell_type": "markdown",
      "metadata": {
        "id": "2hpd_svcOhDy"
      },
      "source": [
        "### Instantiate the environment and define its state and action spaces"
      ]
    },
    {
      "cell_type": "markdown",
      "metadata": {
        "id": "xszlVIQtOkiz"
      },
      "source": [
        "Similarly to our `SimpleController` example, now we are going to use an agent that observes only the current indoor temperature and decides whether to turn heating on or off. However, instead of hard-coding such logic, we are going to use our very own implementation of the `Q_Learning_Agent` to see if it can learn how to do that.\n",
        "For this, we are going to let our RL agent interact with the building for some episodes of experience.\n",
        "Since we are now going to run several episodes for training, we want to stop our previous environment and start one that randomly initializes our building emulator throughout the year.\n",
        "This allows to train our agent when using different boundary condition data in our building environment. We are also going to exclude the Spring, Summer, and Fall periods for training since we are only focused on learning the heating behavior.\n",
        "\n"
      ]
    },
    {
      "cell_type": "code",
      "execution_count": null,
      "metadata": {
        "colab": {
          "base_uri": "https://localhost:8080/"
        },
        "id": "24fsDMTv8tSF",
        "outputId": "06df4d8c-d92d-4be5-e7b7-b11b7e5562e2"
      },
      "outputs": [
        {
          "output_type": "display_data",
          "data": {
            "text/plain": [
              "<Figure size 432x288 with 0 Axes>"
            ]
          },
          "metadata": {}
        }
      ],
      "source": [
        "env.stop()\n",
        "import random\n",
        "\n",
        "# Seed for random starting times of episodes\n",
        "seed = 123456\n",
        "random.seed(seed)\n",
        "# Seed for random exploration and epsilon-greedy schedule\n",
        "np.random.seed(seed)\n",
        "\n",
        "# Winter period goes from December 21 (day 355) to March 20 (day 79)\n",
        "excluding_periods = [(79*24*3600, 355*24*3600)]\n",
        "# Temperature setpoints\n",
        "lower_setp = 21 + 273.15\n",
        "upper_setp = 24 + 273.15\n",
        "# Instantite environment\n",
        "env = BoptestGymEnvCustomReward(url                   = url,\n",
        "                                testcase              = 'bestest_hydronic_heat_pump',\n",
        "                                actions               = ['oveHeaPumY_u'],\n",
        "                                observations          = {'reaTZon_y':(lower_setp,upper_setp)},\n",
        "                                random_start_time     = True,\n",
        "                                excluding_periods     = excluding_periods,\n",
        "                                max_episode_length    = 2*24*3600,\n",
        "                                warmup_period         = 24*3600,\n",
        "                                step_period           = 3600,\n",
        "                                render_episodes       = True)"
      ]
    },
    {
      "cell_type": "markdown",
      "metadata": {
        "id": "NU8aoMvV9AdE"
      },
      "source": [
        "We have set the zone temperature as the only observation of the environment state. We have also set the lower and upper bounds of this variable to be $21$ and $24 °C$, respectively, which are the bounds of the comfort range during occupied periods. These bounds can be used by the environment for normalization or discretization purposes. In fact, we are going to discretize both the action and observation spaces to expedite learning. We decide to set only one bin for the action space (two possible actions: heating on or off). We split the observation space in three bins with the outer bounds of the comfort range as bins of the observation space (`outs_are_bins=True`). That is, the observation space is defined by $[-∞,21,24,+∞]$ as shown on the left hand side of the figure below. Note that only the middle bin is always comfortable whereas the other bins may lead to discomfort. If we had set `outs_are_bins=False` we would have had all our bins within the comfort range. The latter would give the agent a notion of what is the temperature within the comfort range (close to the lower bound, middle, or close to the upper bound), but it would raise an error if the temperature is out of the range.  "
      ]
    },
    {
      "cell_type": "code",
      "execution_count": null,
      "metadata": {
        "id": "uCUZKrOMOIEN"
      },
      "outputs": [],
      "source": [
        "from boptestGymEnv import DiscretizedObservationWrapper\n",
        "env = DiscretizedActionWrapper(env, n_bins_act=1)\n",
        "env = DiscretizedObservationWrapper(env, n_bins_obs=3, outs_are_bins=True)"
      ]
    },
    {
      "cell_type": "markdown",
      "metadata": {
        "id": "Ab6WP3zLEvnb"
      },
      "source": [
        "<img src=\"https://drive.google.com/uc?id=1ZyGf_Bl8irJ6-ifCSNKgpnkz9j2BRs1e\" width=\"800\"/>\n",
        "\n",
        "*Figure: Possibilities for the discretization of the state space.*\n"
      ]
    },
    {
      "cell_type": "markdown",
      "metadata": {
        "id": "GTvGxERwOOI6"
      },
      "source": [
        "### Train our RL agent"
      ]
    },
    {
      "cell_type": "markdown",
      "metadata": {
        "id": "Sc3XqYSDOuGq"
      },
      "source": [
        "The only missing step is to let our RL agent learn by rolling out episodes of experience with the environment. We use the previously defined `learn` method for this. Note that, since we set `render_episodes=True`, we will be seeing a plot with relevant variables after each episode is finished. This is helpful to check if the agent is learning as expected from early stages. If the agent is not showing any sign of life we can prematurely stop the learning process to use new learning settings while saving some valuable time and computational cost.  "
      ]
    },
    {
      "cell_type": "code",
      "execution_count": null,
      "metadata": {
        "colab": {
          "base_uri": "https://localhost:8080/"
        },
        "id": "jtOpX5y_RTsV",
        "outputId": "8899eceb-34ee-4116-da45-51910a867b5b"
      },
      "outputs": [
        {
          "output_type": "stream",
          "name": "stdout",
          "text": [
            "-------------------------------------------------------------------\n",
            "Episode number: 1, starting day: 11.4 (from beginning of the year)\n"
          ]
        },
        {
          "output_type": "display_data",
          "data": {
            "text/plain": [
              "<Figure size 432x288 with 6 Axes>"
            ],
            "image/png": "[encoded data removed]"
          },
          "metadata": {
            "needs_background": "light"
          }
        },
        {
          "output_type": "stream",
          "name": "stdout",
          "text": [
            "q(s,a) = \n",
            "[[0.    0.   ]\n",
            " [1.936 1.398]\n",
            " [0.594 0.   ]]\n",
            "-------------------------------------------------------------------\n",
            "Episode number: 2, starting day: 67.8 (from beginning of the year)\n"
          ]
        },
        {
          "output_type": "display_data",
          "data": {
            "text/plain": [
              "<Figure size 432x288 with 6 Axes>"
            ],
            "image/png": "[encoded data removed]"
          },
          "metadata": {
            "needs_background": "light"
          }
        },
        {
          "output_type": "stream",
          "name": "stdout",
          "text": [
            "q(s,a) = \n",
            "[[0.    0.17 ]\n",
            " [2.414 2.116]\n",
            " [1.491 0.594]]\n",
            "-------------------------------------------------------------------\n",
            "Episode number: 3, starting day: 0.9 (from beginning of the year)\n"
          ]
        },
        {
          "output_type": "display_data",
          "data": {
            "text/plain": [
              "<Figure size 432x288 with 6 Axes>"
            ],
            "image/png": "[encoded data removed]"
          },
          "metadata": {
            "needs_background": "light"
          }
        },
        {
          "output_type": "stream",
          "name": "stdout",
          "text": [
            "q(s,a) = \n",
            "[[1.594 1.141]\n",
            " [2.411 2.221]\n",
            " [1.491 0.594]]\n",
            "-------------------------------------------------------------------\n",
            "Episode number: 4, starting day: 29.9 (from beginning of the year)\n"
          ]
        },
        {
          "output_type": "display_data",
          "data": {
            "text/plain": [
              "<Figure size 432x288 with 6 Axes>"
            ],
            "image/png": "[encoded data removed]"
          },
          "metadata": {
            "needs_background": "light"
          }
        },
        {
          "output_type": "stream",
          "name": "stdout",
          "text": [
            "q(s,a) = \n",
            "[[2.411 2.219]\n",
            " [2.382 2.409]\n",
            " [1.491 0.594]]\n",
            "-------------------------------------------------------------------\n",
            "Episode number: 5, starting day: 19.8 (from beginning of the year)\n"
          ]
        },
        {
          "output_type": "display_data",
          "data": {
            "text/plain": [
              "<Figure size 432x288 with 6 Axes>"
            ],
            "image/png": "[encoded data removed]"
          },
          "metadata": {
            "needs_background": "light"
          }
        },
        {
          "output_type": "stream",
          "name": "stdout",
          "text": [
            "q(s,a) = \n",
            "[[2.411 2.219]\n",
            " [2.833 2.967]\n",
            " [2.287 1.918]]\n",
            "-------------------------------------------------------------------\n",
            "Episode number: 6, starting day: 11.0 (from beginning of the year)\n"
          ]
        },
        {
          "output_type": "display_data",
          "data": {
            "text/plain": [
              "<Figure size 432x288 with 6 Axes>"
            ],
            "image/png": "[encoded data removed]"
          },
          "metadata": {
            "needs_background": "light"
          }
        },
        {
          "output_type": "stream",
          "name": "stdout",
          "text": [
            "q(s,a) = \n",
            "[[2.411 2.219]\n",
            " [4.677 4.24 ]\n",
            " [2.367 1.918]]\n",
            "-------------------------------------------------------------------\n",
            "Episode number: 7, starting day: 45.2 (from beginning of the year)\n"
          ]
        },
        {
          "output_type": "display_data",
          "data": {
            "text/plain": [
              "<Figure size 432x288 with 6 Axes>"
            ],
            "image/png": "[encoded data removed]"
          },
          "metadata": {
            "needs_background": "light"
          }
        },
        {
          "output_type": "stream",
          "name": "stdout",
          "text": [
            "q(s,a) = \n",
            "[[2.452 3.17 ]\n",
            " [4.847 4.609]\n",
            " [2.432 1.997]]\n",
            "-------------------------------------------------------------------\n",
            "Episode number: 8, starting day: 362.2 (from beginning of the year)\n"
          ]
        },
        {
          "output_type": "display_data",
          "data": {
            "text/plain": [
              "<Figure size 432x288 with 6 Axes>"
            ],
            "image/png": "[encoded data removed]"
          },
          "metadata": {
            "needs_background": "light"
          }
        },
        {
          "output_type": "stream",
          "name": "stdout",
          "text": [
            "q(s,a) = \n",
            "[[2.452 3.271]\n",
            " [5.66  5.162]\n",
            " [2.737 2.014]]\n",
            "-------------------------------------------------------------------\n",
            "Episode number: 9, starting day: 72.3 (from beginning of the year)\n"
          ]
        },
        {
          "output_type": "display_data",
          "data": {
            "text/plain": [
              "<Figure size 432x288 with 6 Axes>"
            ],
            "image/png": "[encoded data removed]"
          },
          "metadata": {
            "needs_background": "light"
          }
        },
        {
          "output_type": "stream",
          "name": "stdout",
          "text": [
            "q(s,a) = \n",
            "[[2.452 3.917]\n",
            " [6.03  6.114]\n",
            " [2.737 2.014]]\n",
            "-------------------------------------------------------------------\n",
            "Episode number: 10, starting day: 357.8 (from beginning of the year)\n"
          ]
        },
        {
          "output_type": "display_data",
          "data": {
            "text/plain": [
              "<Figure size 432x288 with 6 Axes>"
            ],
            "image/png": "[encoded data removed]"
          },
          "metadata": {
            "needs_background": "light"
          }
        },
        {
          "output_type": "stream",
          "name": "stdout",
          "text": [
            "q(s,a) = \n",
            "[[2.56  4.458]\n",
            " [6.448 6.346]\n",
            " [3.256 2.165]]\n"
          ]
        }
      ],
      "source": [
        "model = Q_Learning_Agent(env, eps_min=0.01, eps_decay=0.001, alpha=0.1, gamma=0.9)\n",
        "model.learn(total_episodes=10)"
      ]
    },
    {
      "cell_type": "markdown",
      "metadata": {
        "id": "Qblijq9WVobQ"
      },
      "source": [
        "Since our environment has been defined with one-dimensional state and action spaces, we can plot the q-function after training as follows:\n"
      ]
    },
    {
      "cell_type": "code",
      "execution_count": null,
      "metadata": {
        "colab": {
          "base_uri": "https://localhost:8080/"
        },
        "id": "z_u32nxmzSDm",
        "outputId": "798200c2-d22d-4f2b-a2bf-831511270490"
      },
      "outputs": [
        {
          "output_type": "display_data",
          "data": {
            "text/plain": [
              "<Figure size 432x288 with 1 Axes>"
            ],
            "image/png": "[encoded data removed]"
          },
          "metadata": {
            "needs_background": "light"
          }
        }
      ],
      "source": [
        "import matplotlib.pyplot as plt\n",
        "\n",
        "acts   = ['a=0','a=1']\n",
        "stas   = ['T<21', '21<T<24', 'T>24']\n",
        "colors = ['b',    'g',       'r']\n",
        "\n",
        "fig = plt.figure()\n",
        "ax = fig.add_subplot(111, projection='3d')\n",
        "ax.set_xlabel('actions',           labelpad=6,  fontsize=12)\n",
        "ax.set_ylabel('states',            labelpad=10, fontsize=12)\n",
        "ax.set_zlabel('$\\mathbf{q(s,a)}$', labelpad=0,  fontsize=15)\n",
        "plt.xticks(ticks=range(len(acts)), labels=acts)\n",
        "plt.yticks(ticks=range(len(stas)), labels=stas)\n",
        "\n",
        "for i, s in enumerate(stas):\n",
        "  x = np.arange(len(acts))\n",
        "  h = model.q[i,:]\n",
        "\n",
        "  # Set color\n",
        "  color = [colors[i]]*len(acts)\n",
        "\n",
        "  # Plot the 3D bar graph\n",
        "  ax.bar(x, h, zs=i, zdir='y', color=color, alpha=0.8)\n",
        "\n",
        "plt.show()"
      ]
    },
    {
      "cell_type": "markdown",
      "metadata": {
        "id": "V0AIl-HeVyqs"
      },
      "source": [
        "Does it sound familiar? this is actually the [q-function that we had conceptually introduced before](#qFunctionConcept), but for our specific case!\n",
        "\n",
        "We observe that the state with the highest value is the one in the middle (green bars 🟢👌, `21<T<24`) because this is the one that keeps comfort. In that state, there is no significant difference between turning heating on or off. On the contrary, when temperature is below the comfort bound (blue bars 🔵🥶, `T<21`), there is more value on taking action `a=1`, so there is a preference for the agent to turn heating on. On the other hand, when temperature is above the comfort bound (red bars 🔴🔥, `T>24`), there is more value on `a=0`, so there is a preference for the agent to turn heating off.\n",
        "\n",
        "Sometimes it is useful to know what is the value of being on a specific state, independently of the action to be taken. This is represented by the so-called state-value function, which relates to the action-value function as follows:\n",
        "\n",
        "\\begin{align}\n",
        "  v(\\pmb{s}) = \\max_{\\pmb{a}} q(\\pmb{s},\\pmb{a})\n",
        "\\end{align}\n",
        "\n",
        "At this point we can easily compute and plot the value function for our case:\n",
        "\n",
        "\n"
      ]
    },
    {
      "cell_type": "code",
      "execution_count": null,
      "metadata": {
        "colab": {
          "base_uri": "https://localhost:8080/"
        },
        "id": "urJOkjSNoa-h",
        "outputId": "6495d9ec-740b-43d4-892e-1ac089390040"
      },
      "outputs": [
        {
          "output_type": "display_data",
          "data": {
            "text/plain": [
              "<Figure size 432x288 with 1 Axes>"
            ],
            "image/png": "[encoded data removed]"
          },
          "metadata": {
            "needs_background": "light"
          }
        }
      ],
      "source": [
        "# Compute the state-value function\n",
        "v = np.amax(model.q, axis=1)\n",
        "\n",
        "# Plot state-value function\n",
        "fig = plt.figure()\n",
        "\n",
        "ax = fig.add_subplot(111)\n",
        "ax.set_xlabel('states', labelpad=10, fontsize=12)\n",
        "ax.set_ylabel('$\\mathbf{v(s)}$', labelpad=0,  fontsize=15)\n",
        "plt.xticks(ticks=range(len(stas)), labels=stas)\n",
        "x = np.arange(len(stas))\n",
        "ax.bar(x, v, color=colors, alpha=0.8)\n",
        "plt.show()"
      ]
    },
    {
      "cell_type": "markdown",
      "metadata": {
        "id": "clFn8dd7obRI"
      },
      "source": [
        "Notice that we have trained our agent following an off-policy method: the actions were driven by a policy different than that one that our agent would follow. This is because the agent was using an epsilon-greedy policy to explore more rewarding actions. If we conclude we are happy with the learned policy, we can test it by setting `deterministic=True` with the `predict` method. For example, let's test our learned agent for the first day of February:\n",
        "\n"
      ]
    },
    {
      "cell_type": "code",
      "execution_count": null,
      "metadata": {
        "colab": {
          "base_uri": "https://localhost:8080/"
        },
        "id": "WuYEBf9nsmH6",
        "outputId": "4b9ccd3f-3dc8-4efe-e10d-5095eca6cbc6"
      },
      "outputs": [
        {
          "output_type": "stream",
          "name": "stdout",
          "text": [
            "-------------------------------------------------------------------\n",
            "State  [Bin #]  = 1\n",
            "Action [ - ]    = 0\n",
            "-------------------------------------------------------------------\n"
          ]
        }
      ],
      "source": [
        "env.stop()\n",
        "env = BoptestGymEnvCustomReward(url                   = url,\n",
        "                                testcase              = 'bestest_hydronic_heat_pump',\n",
        "                                actions               = ['oveHeaPumY_u'],\n",
        "                                observations          = {'reaTZon_y':(lower_setp,upper_setp)},\n",
        "                                random_start_time     = False,\n",
        "                                start_time            = 31*24*3600,\n",
        "                                max_episode_length    = 24*3600,\n",
        "                                warmup_period         = 24*3600,\n",
        "                                step_period           = 3600)\n",
        "env = DiscretizedActionWrapper(env, n_bins_act=1)\n",
        "env = DiscretizedObservationWrapper(env, n_bins_obs=3, outs_are_bins=True)\n",
        "\n",
        "done = False\n",
        "obs = env.reset()\n",
        "\n",
        "from IPython.display import clear_output\n",
        "while not done:\n",
        "  # Clear the display output at each step\n",
        "  clear_output(wait=True)\n",
        "  # Compute control signal\n",
        "  action = model.predict(obs, deterministic=True)\n",
        "  # Print the current operative temperature and decided action\n",
        "  print('-------------------------------------------------------------------')\n",
        "  print('State  [Bin #]  = {:.0f}'.format(obs))\n",
        "  print('Action [ - ]    = {:.0f}'.format(action))\n",
        "  print('-------------------------------------------------------------------')\n",
        "  # Implement action\n",
        "  obs,reward,done,info = env.step(action) # send the action to the environment"
      ]
    },
    {
      "cell_type": "markdown",
      "metadata": {
        "id": "sLBD3joyxe9Z"
      },
      "source": [
        "Now there is no randomness involved. The agent exploits its policy by ALWAYS picking action `a=1` when `s=0` because it has learned that that is the action with the highest value in that state.\n",
        "\n",
        "We can now evaluate our learned policy by calculating the core KPIs with BOPTEST:"
      ]
    },
    {
      "cell_type": "code",
      "execution_count": null,
      "metadata": {
        "colab": {
          "base_uri": "https://localhost:8080/"
        },
        "id": "eLzZaaNzyeZv",
        "outputId": "caad2ecc-a572-4852-9c20-072f99c92d7d"
      },
      "outputs": [
        {
          "output_type": "execute_result",
          "data": {
            "text/plain": [
              "{'tdis_tot': 1.7415794961384694,\n",
              " 'idis_tot': 0,\n",
              " 'ener_tot': 0.17501300879744733,\n",
              " 'cost_tot': 0.044365797730152895,\n",
              " 'emis_tot': 0.029227172469173696,\n",
              " 'pele_tot': 0.01990768126278055,\n",
              " 'pgas_tot': None,\n",
              " 'pdih_tot': None,\n",
              " 'time_rat': 0.00011690192176523994}"
            ]
          },
          "metadata": {},
          "execution_count": 24
        }
      ],
      "source": [
        "env.get_kpis()"
      ]
    },
    {
      "cell_type": "markdown",
      "metadata": {
        "id": "WbDAlStV2Tvx"
      },
      "source": [
        "This prepares the ground for different RL configurations to be evaluated and compared between each other and to other types of controls like classical rule based controllers or more advanced model predictive control. Recall that there are specific [scenario periods for each test case in BOPTEST](https://github.com/ibpsa/project1-boptest/tree/master/testcases#test-cases) that are set for these comparisons."
      ]
    },
    {
      "cell_type": "markdown",
      "metadata": {
        "id": "FBL289bfsmcJ"
      },
      "source": [
        "**Food for thought:  🤔**\n",
        "- If the agent never receives a reward when the temperature is out of the comfort bounds (states 0 🔵 and 2 🔴), why is the q-function not 0 for those states?\n",
        "- Could you think of measures to improve learning?\n",
        "- Could you think of measures to improve performance?\n"
      ]
    },
    {
      "cell_type": "markdown",
      "metadata": {
        "id": "eKqvn5yb_mqJ"
      },
      "source": [
        "# **Gearing up** <a name=\"gearingUp\"></a> 💪"
      ]
    },
    {
      "cell_type": "markdown",
      "metadata": {
        "id": "X1sdwYm5b66G"
      },
      "source": [
        "The previously stylished example had a very limited representation of the state space. It was useful to illustrate how we can configure and train a RL agent without needing too many interactions with the environment (our building). However, using RL for solving this environment may feel like overkilling the problem. Our `SimpleController` was already enough to decide when to turn on heating based on indoor temperature readings. You should note, however, that you have developed a general agent capable of learning from any environment and the potential to infer way more complex relationships between environment observations and actions. Examples of what this RL agent could infer for building control are the following:\n",
        "- Dynamic energy pricing\n",
        "- A heating schedule based on user inputs.\n",
        "- A heating curve based on ambient temperature.\n",
        "- The variable heat pump COP based on condenser, evaporator, and ambient temperature reaadings.\n",
        "\n",
        "We could for example extend our reward function as to minimize the building energy use or the greenhouse gas emissions while keeping comfort.\n",
        "And all this can be inferred without the need of a model that requires domain knowledge. On the downside, learning more complex dynamics from higher dymensional observation spaces requires more training data. This means that more interactions with the environment (the building) are required, which sometimes are unavailable. For this reason, sample-efficiency is key in RL and there exist several tricks to expedite learning.\n"
      ]
    },
    {
      "cell_type": "markdown",
      "metadata": {
        "id": "V3ZF29MChF4F"
      },
      "source": [
        "To finalize, we are going to instantiate a more complete building environment by extending the observation space with the time of the week as well as information about the ambient temeprature, solar irradiation, internal gains, electricity pricing, or temperature setpoints. With BOPTEST-Gym we can also establish a predictive and a regressive period that include predictions of the boundary condition data and past observations of the measured data, respectively.   "
      ]
    },
    {
      "cell_type": "code",
      "execution_count": null,
      "metadata": {
        "id": "Bdx3qCDvhFSX"
      },
      "outputs": [],
      "source": [
        "env.stop()\n",
        "\n",
        "from boptestGymEnv import NormalizedObservationWrapper\n",
        "from stable_baselines3 import DQN\n",
        "\n",
        "env = BoptestGymEnvCustomReward(\n",
        "        url                  = url,\n",
        "        actions              = ['oveHeaPumY_u'],\n",
        "        observations         = {'time':(0,604800),\n",
        "                                'reaTZon_y':(280.,310.),\n",
        "                                'TDryBul':(265,303),\n",
        "                                'HDirNor':(0,862),\n",
        "                                'InternalGainsRad[1]':(0,219),\n",
        "                                'PriceElectricPowerHighlyDynamic':(-0.4,0.4),\n",
        "                                'LowerSetp[1]':(280.,310.),\n",
        "                                'UpperSetp[1]':(280.,310.)},\n",
        "        predictive_period    = 24*3600,\n",
        "        regressive_period    = 6*3600,\n",
        "        random_start_time    = True,\n",
        "        max_episode_length   = 7*24*3600,\n",
        "        warmup_period        = 24*3600,\n",
        "        step_period          = 900)\n",
        "\n",
        "env = NormalizedObservationWrapper(env)\n",
        "env = DiscretizedActionWrapper(env,n_bins_act=10)"
      ]
    },
    {
      "cell_type": "markdown",
      "metadata": {
        "id": "Is0vIEcP-lmS"
      },
      "source": [
        "This new environment has a way higher dimensional state-action space than the ones we treated before:"
      ]
    },
    {
      "cell_type": "code",
      "execution_count": null,
      "metadata": {
        "colab": {
          "base_uri": "https://localhost:8080/"
        },
        "id": "GSg90XCe-26Q",
        "outputId": "fd7cbbdd-6e13-481a-b64c-88caab465fde"
      },
      "outputs": [
        {
          "output_type": "stream",
          "name": "stdout",
          "text": [
            "Observation space of the building environment (dimension):\n",
            "(608,)\n",
            "Action space of the building environment:\n",
            "Discrete(11)\n"
          ]
        }
      ],
      "source": [
        "print('Observation space of the building environment (dimension):')\n",
        "print(env.observation_space.shape)\n",
        "print('Action space of the building environment:')\n",
        "print(env.action_space)"
      ]
    },
    {
      "cell_type": "markdown",
      "metadata": {
        "id": "NW3VhsGq-3Ee"
      },
      "source": [
        "Because of this high dimensional state-action space, an agent will probably require many more interactions to solve this environment. Luckily, there are readily available state-of-the-art RL algorithms that implement all sort of tricks to expedite and stabilize learning while maintain the learning principle that you have learned above. For example, we can access the advanced Deep Q-Network (DQN) algorithm from Stable-Baselines3 to learn this more complex environment. We set here our agent to learn for `10` steps to show how this learning process would be initiated.\n",
        "<!--\n",
        "In those cases, the agent would probably take too long to learn for this tutorial, but I'd encourage you to try it out offline!  -->"
      ]
    },
    {
      "cell_type": "code",
      "execution_count": null,
      "metadata": {
        "colab": {
          "base_uri": "https://localhost:8080/"
        },
        "id": "4NvXkkFh-qH5",
        "outputId": "d8cdbd0b-a611-41eb-8ee7-604abfa7e558"
      },
      "outputs": [
        {
          "output_type": "stream",
          "name": "stdout",
          "text": [
            "Using cpu device\n",
            "Wrapping the env in a DummyVecEnv.\n"
          ]
        },
        {
          "output_type": "execute_result",
          "data": {
            "text/plain": [
              "<stable_baselines3.dqn.dqn.DQN at 0x7f1e0dba6390>"
            ]
          },
          "metadata": {},
          "execution_count": 27
        }
      ],
      "source": [
        "model = DQN('MlpPolicy', env, verbose=1, gamma=0.99, seed=seed,\n",
        "            learning_rate=5e-4, batch_size=24,\n",
        "            buffer_size=365*24, learning_starts=24, train_freq=1)\n",
        "\n",
        "# Main training loop\n",
        "model.learn(total_timesteps=10)"
      ]
    },
    {
      "cell_type": "markdown",
      "metadata": {
        "id": "07ZJaTPzEo8O"
      },
      "source": [
        "However, this is clearly not enough! Solving an environment of these dimensions would probably require millions of steps or other tricks to accelerate learning. Could you think of any?"
      ]
    },
    {
      "cell_type": "code",
      "execution_count": null,
      "metadata": {
        "id": "EDJHCuQ2NFN6"
      },
      "outputs": [],
      "source": [
        "env.stop()"
      ]
    },
    {
      "cell_type": "markdown",
      "metadata": {
        "id": "F-_f2qRTB0Nw"
      },
      "source": [
        "# **Further resources** <a name=\"furtherResources\"></a> 📚"
      ]
    },
    {
      "cell_type": "markdown",
      "metadata": {
        "id": "p54OK_TGrtfp"
      },
      "source": [
        "- For RL, check out the resources page from Stable-Baselines 3 [here](https://stable-baselines3.readthedocs.io/en/master/guide/rl.html) and the [open access book of Richard S. Sutton and Andrew G. Barto](http://incompleteideas.net/book/the-book-2nd.html)\n",
        "- For BOPTEST, check out the websites of the [BOPTEST framework](https://ibpsa.github.io/project1-boptest/), its [GitHub repository](https://ibpsa.github.io/project1-boptest/), and its overarching project: [IBPSA Project 1](https://ibpsa.github.io/project1/)."
      ]
    },
    {
      "cell_type": "markdown",
      "metadata": {
        "id": "Jblq_C7CHQHj"
      },
      "source": [
        "# **Feedback** <a name=\"feedbackForm\"></a> 💬"
      ]
    },
    {
      "cell_type": "markdown",
      "metadata": {
        "id": "jJ9lmUndHLMq"
      },
      "source": [
        "Please help us improve by filling out [this form](https://forms.gle/JdprK6tgxQtwvhFV8). It'll only take a couple of minutes!"
      ]
    },
    {
      "cell_type": "markdown",
      "metadata": {
        "id": "WNB5MoRmOWc9"
      },
      "source": [
        "#**Annex I: Formal Reinforcement Learning theory** <a name=\"theoryRlFormal\"></a>"
      ]
    },
    {
      "cell_type": "markdown",
      "metadata": {
        "id": "G-ZId2TdCngy"
      },
      "source": [
        "In RL we aim to derive an optimal control policy from the direct interaction of an agent (the RL algorithm) and an environment (the process to be optimized).\n",
        "A policy is a mapping from environment states to actions that the agent \"decides\" to take.\n",
        "This control method is based on the principle of dynamic programming. Unlike\n",
        "classical dynamic programming, RL does not assume the existence of a perfect\n",
        "system model and uses function approximations to build a policy from samples\n",
        "of historical data. Hence, the agent performs empirical learning and decides on\n",
        "actions to drive the environment towards favorable trajectories according to a reward function that the environment delivers every control step.\n",
        "\n",
        "The process of the RL agent interacting with the environment is a sequential decision-making problem formalized as a **Markov Decission Process (MDP)**. A diagram summarizing the RL approach is shown in the following figure:\n",
        "\n",
        "<img src=\"https://drive.google.com/uc?id=10EbdxTgq4PLl2oQp_quLHrht59pDMob6\" width=\"500\"/>\n",
        "\n",
        "*Figure: Diagram of the RL approach. The RL agent decides an action. After the action is implemented, the environment returns the new state $\\pmb{S}_{k+1}$ and associated reward $R_{k+1}$.*\n",
        "\n",
        "In an MDP, the agent and the environment interact during a sequence of discrete-time steps indexed here as $k=0,1,2,...,K$, with $K$ being the terminal sample that could be $K=\\infty$.\n",
        "Every time step $k$ the agent receives a representation of the environment named state: $\\pmb{S}_k \\in \\pmb{\\mathcal{S}}$, where $\\pmb{\\mathcal{S}}$ is the state space.\n",
        "Note that the agent's observation of the state-space may or may not fully characterize the environment state.\n",
        "In the latter case where the agent can only see a partial observation of the environment's state-space, we refer to **partially observable Markov decision processes (POMDPs)**.\n",
        "\n",
        "Upon receiving the state representation, the agent computes its control logic and in turn sends back to the environment a control action $\\pmb{A}_k \\in \\pmb{\\mathcal{A}}$, where $\\pmb{A}_k$ is the most appropriate action chosen from the action space $\\pmb{\\mathcal{A}}$.\n",
        "One time step later, the agent observes a new state from the environment $\\pmb{S}_{k+1}$ along with a scalar value indicating its reward $R_{k+1} \\in \\mathcal{R} \\subset{\\mathbb{R}}$. Notice that the reward $R_{k+1}$ is an indicator of the agent's performance when taking action $\\pmb{A}_k$ from state $\\pmb{S}_k$.\n",
        "\n",
        "The environment $\\mathcal{E}_{\\pmb{f}}$ is governed by the natural laws of the system dynamics $\\pmb{f}$ and it is defined by $\\mathcal{E}_{\\pmb{f}}:\\pmb{\\mathcal{S}}\\times \\pmb{\\mathcal{A}} \\rightarrow \\pmb{\\mathcal{S}}\\times \\mathcal{R}$.\n",
        "The goal of RL is to infer an **optimal control policy** $\\pi_{*}:\\pmb{\\mathcal{S}} \\rightarrow \\pmb{\\mathcal{A}}$ that maximizes the **expected cumulative return** $G$ when the agent acts according to it.\n",
        "The cumulative return is defined as some function of the rewards sequence, and a typical definition is to discount the rewards with a **discount factor** $\\gamma \\in [0,1]$ as shown in the following equation:\n",
        "\n",
        "\\begin{align}\n",
        "  G_k = R_{k+1} + \\gamma R_{k+2} + \\gamma^2 R_{k+3} + ... = \\sum_{i=0}^\\infty \\gamma^i R_{k+i+1}\n",
        "\\end{align}\n",
        "\n",
        "The **action-value function** $q(\\pmb{S},\\pmb{A})$ estimates the expected return when being in a specific state $\\pmb{S}$ and taking an action $\\pmb{A}$.\n",
        "The **state-value function** $v(\\pmb{S})$ directly estimates the expected return for being in state $\\pmb{S}$.\n",
        "Frequently, the policy and value functions are approximated by **function approximations** to cope with high-dimensional state-action spaces.\n",
        "Examples of commonly used regressors are neural networks or randomized trees.\n",
        "\n",
        "<!-- Both value functions can be related as shown in the equation below.\n",
        "\\begin{equation}\n",
        "    v(\\pmb{S}) = \\max_{\\pmb{a}\\in\\pmb{\\mathcal{A}}} q(\\pmb{S}, \\pmb{a})\n",
        "\\end{equation} -->\n",
        "\n",
        "A **trajectory** of an MDP is defined as a sequence of states, actions and rewards.\n",
        "Most of the RL algorithms learn from finite trajectories of experience called **episodes**.\n",
        "Sometimes, the trajectories are broken down into tuples of the form $(\\pmb{s}_k,\\pmb{a}_k,r_k,\\pmb{s}_{k+1})$ and stored in a **replay memory** $\\pmb{\\mathcal{D}}$.\n",
        "Using a replay memory allows to serve the historical data in random batches of tuples to preserve as much as possible the independent and identically distributed assumption that is typically taken to parametrize policies and value functions.\n",
        "\n"
      ]
    },
    {
      "cell_type": "markdown",
      "metadata": {
        "id": "_RIO07aKaQHG"
      },
      "source": [
        "# **References** <a name=\"references\"></a>"
      ]
    },
    {
      "cell_type": "markdown",
      "metadata": {
        "id": "cQM-3Ra5BYM7"
      },
      "source": [
        "\n",
        "- **[1]** *Blum, D., Arroyo, J., Huang, S., Drgona, J., Jorissen, F., Taxt Walnum, H., Yan, C., Benne, K., Vrabie, D., Wetter, M., and Helsen,\n",
        "L. Building Optimization Testing Framework (BOPTEST) for Simulation-\n",
        "Based Benchmarking of Control Strategies in Buildings. Journal of Building\n",
        "Performance Simulation 14, 5 (2021), 586–610. https://doi.org/10.1080/19401493.2021.1986574*\n",
        "\n",
        "- **[2]** *Arroyo, J., Manna, C., Spiessens, F., and Helsen, L. An OpenAI-Gym\n",
        "environment for the Building Optimization Testing (BOPTEST) framework.\n",
        "In Proceedings of the 17th IBPSA Conference (Bruges, Belgium, September 2021) [https://doi.org/10.26868/25222708.2021.30380](https://www.conftool.pro/bs2021/index.php/30380_Arroyo_Javier.pdf?page=downloadPaper&filename=30380_Arroyo_Javier.pdf&form_id=30380)*\n",
        "\n",
        "- **[3]** *Drgona, J., Arroyo, J., Cupeiro Figueroa, I., Blum, D., Arendt, K., Kim, D.,Ollé, E. P., Oravec, J., Wetter, M., Vrabie, D. L., and Helsen, L. All you need to know about model predictive control for buildings. Annual Reviews in Control 50 (2020), 190–232. https://doi.org/10.1016/j.arcontrol.2020.09.001*\n",
        "\n",
        "- **[4]** *Vázquez-Canteli, J. R., and Nagy, Z. Reinforcement learning\n",
        "for demand response: A review of algorithms and modeling techniques.\n",
        "Applied energy 235 (2019), 1072–1089. https://doi.org/10.1016/j.apenergy.2018.11.002*\n",
        "\n",
        "- **[5]** *Chen, B., Cai, Z., and Bergés, M. Gnu-RL: A Practical and Scalable Reinforcement Learning Solution for Building HVAC Control Using a Differentiable MPC Policy. Frontiers in Built Environment 6 (2020). https://doi.org/10.3389/fbuil.2020.562239*\n",
        "\n",
        "- **[6]** *Sutton, R. S., and Barto, A. G. Reinforcement Learning: An Introduction, second ed. The MIT Press, 2018.*\n"
      ]
    }
  ],
  "metadata": {
    "colab": {
      "provenance": []
    },
    "kernelspec": {
      "display_name": "Python 3 (ipykernel)",
      "language": "python",
      "name": "python3"
    },
    "language_info": {
      "codemirror_mode": {
        "name": "ipython",
        "version": 3
      },
      "file_extension": ".py",
      "mimetype": "text/x-python",
      "name": "python",
      "nbconvert_exporter": "python",
      "pygments_lexer": "ipython3",
      "version": "3.10.4"
    }
  },
  "nbformat": 4,
  "nbformat_minor": 0
}